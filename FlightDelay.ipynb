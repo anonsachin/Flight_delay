{
 "cells": [
  {
   "cell_type": "markdown",
   "metadata": {},
   "source": [
    "# Flight Delay prediction"
   ]
  },
  {
   "cell_type": "code",
   "execution_count": 1,
   "metadata": {},
   "outputs": [],
   "source": [
    "import numpy as np\n",
    "import pandas as pd\n",
    "import torch\n",
    "import datetime\n",
    "from torch.utils import data\n",
    "from random import sample,seed"
   ]
  },
  {
   "cell_type": "markdown",
   "metadata": {},
   "source": [
    "## Importing Flight Data"
   ]
  },
  {
   "cell_type": "code",
   "execution_count": 2,
   "metadata": {},
   "outputs": [
    {
     "name": "stderr",
     "output_type": "stream",
     "text": [
      "/home/sachin/anaconda3/envs/deep/lib/python3.6/site-packages/IPython/core/interactiveshell.py:3051: DtypeWarning: Columns (7,8) have mixed types. Specify dtype option on import or set low_memory=False.\n",
      "  interactivity=interactivity, compiler=compiler, result=result)\n"
     ]
    }
   ],
   "source": [
    "flights = pd.read_csv(\"./data/flights.csv\")\n",
    "airlines = pd.read_csv(\"./data/airlines.csv\")\n",
    "airports = pd.read_csv(\"./data/airports.csv\")"
   ]
  },
  {
   "cell_type": "markdown",
   "metadata": {},
   "source": [
    "## Preprocessing of the data"
   ]
  },
  {
   "cell_type": "code",
   "execution_count": 3,
   "metadata": {},
   "outputs": [],
   "source": [
    "airports = {ch:i for i,ch in enumerate(flights.ORIGIN_AIRPORT.unique())}\n",
    "airlines = {ch:i for i,ch in enumerate(airlines.IATA_CODE)}\n",
    "airports['10666'] =len(airports)"
   ]
  },
  {
   "cell_type": "code",
   "execution_count": 4,
   "metadata": {},
   "outputs": [],
   "source": [
    "# one hot encoder for day of the week\n",
    "def one_hot_encode(size,val):\n",
    "    a = np.zeros((size,),dtype=int)\n",
    "    a[(val-1)] = 1\n",
    "    return a"
   ]
  },
  {
   "cell_type": "code",
   "execution_count": 5,
   "metadata": {},
   "outputs": [],
   "source": [
    "# Date and time preprocess copied from\n",
    "# link - https://www.kaggle.com/fabiendaniel/predicting-flight-delays-tutorial/data\n",
    "#_________________________________________________________\n",
    "# Function that convert the 'HHMM' string to datetime.time\n",
    "def format_heure(chaine):\n",
    "    if pd.isnull(chaine):\n",
    "        return np.nan\n",
    "    else:\n",
    "        if chaine == 2400: chaine = 0\n",
    "        chaine = \"{0:04d}\".format(int(chaine))\n",
    "        heure = datetime.time(int(chaine[0:2]), int(chaine[2:4]))\n",
    "        return heure"
   ]
  },
  {
   "cell_type": "code",
   "execution_count": 6,
   "metadata": {},
   "outputs": [],
   "source": [
    "flights['DATE'] = pd.to_datetime(flights[['YEAR','MONTH', 'DAY']])"
   ]
  },
  {
   "cell_type": "code",
   "execution_count": 7,
   "metadata": {},
   "outputs": [
    {
     "data": {
      "text/html": [
       "<div>\n",
       "<style scoped>\n",
       "    .dataframe tbody tr th:only-of-type {\n",
       "        vertical-align: middle;\n",
       "    }\n",
       "\n",
       "    .dataframe tbody tr th {\n",
       "        vertical-align: top;\n",
       "    }\n",
       "\n",
       "    .dataframe thead th {\n",
       "        text-align: right;\n",
       "    }\n",
       "</style>\n",
       "<table border=\"1\" class=\"dataframe\">\n",
       "  <thead>\n",
       "    <tr style=\"text-align: right;\">\n",
       "      <th></th>\n",
       "      <th>SCHEDULED_DEPARTURE</th>\n",
       "      <th>SCHEDULED_ARRIVAL</th>\n",
       "      <th>DEPARTURE_TIME</th>\n",
       "      <th>ARRIVAL_TIME</th>\n",
       "      <th>DEPARTURE_DELAY</th>\n",
       "      <th>ARRIVAL_DELAY</th>\n",
       "    </tr>\n",
       "  </thead>\n",
       "  <tbody>\n",
       "    <tr>\n",
       "      <th>0</th>\n",
       "      <td>00:05:00</td>\n",
       "      <td>04:30:00</td>\n",
       "      <td>23:54:00</td>\n",
       "      <td>04:08:00</td>\n",
       "      <td>-11.0</td>\n",
       "      <td>-22.0</td>\n",
       "    </tr>\n",
       "    <tr>\n",
       "      <th>1</th>\n",
       "      <td>00:10:00</td>\n",
       "      <td>07:50:00</td>\n",
       "      <td>00:02:00</td>\n",
       "      <td>07:41:00</td>\n",
       "      <td>-8.0</td>\n",
       "      <td>-9.0</td>\n",
       "    </tr>\n",
       "    <tr>\n",
       "      <th>2</th>\n",
       "      <td>00:20:00</td>\n",
       "      <td>08:06:00</td>\n",
       "      <td>00:18:00</td>\n",
       "      <td>08:11:00</td>\n",
       "      <td>-2.0</td>\n",
       "      <td>5.0</td>\n",
       "    </tr>\n",
       "    <tr>\n",
       "      <th>3</th>\n",
       "      <td>00:20:00</td>\n",
       "      <td>08:05:00</td>\n",
       "      <td>00:15:00</td>\n",
       "      <td>07:56:00</td>\n",
       "      <td>-5.0</td>\n",
       "      <td>-9.0</td>\n",
       "    </tr>\n",
       "    <tr>\n",
       "      <th>4</th>\n",
       "      <td>00:25:00</td>\n",
       "      <td>03:20:00</td>\n",
       "      <td>00:24:00</td>\n",
       "      <td>02:59:00</td>\n",
       "      <td>-1.0</td>\n",
       "      <td>-21.0</td>\n",
       "    </tr>\n",
       "    <tr>\n",
       "      <th>5</th>\n",
       "      <td>00:25:00</td>\n",
       "      <td>06:02:00</td>\n",
       "      <td>00:20:00</td>\n",
       "      <td>06:10:00</td>\n",
       "      <td>-5.0</td>\n",
       "      <td>8.0</td>\n",
       "    </tr>\n",
       "  </tbody>\n",
       "</table>\n",
       "</div>"
      ],
      "text/plain": [
       "  SCHEDULED_DEPARTURE SCHEDULED_ARRIVAL DEPARTURE_TIME ARRIVAL_TIME  \\\n",
       "0            00:05:00          04:30:00       23:54:00     04:08:00   \n",
       "1            00:10:00          07:50:00       00:02:00     07:41:00   \n",
       "2            00:20:00          08:06:00       00:18:00     08:11:00   \n",
       "3            00:20:00          08:05:00       00:15:00     07:56:00   \n",
       "4            00:25:00          03:20:00       00:24:00     02:59:00   \n",
       "5            00:25:00          06:02:00       00:20:00     06:10:00   \n",
       "\n",
       "   DEPARTURE_DELAY  ARRIVAL_DELAY  \n",
       "0            -11.0          -22.0  \n",
       "1             -8.0           -9.0  \n",
       "2             -2.0            5.0  \n",
       "3             -5.0           -9.0  \n",
       "4             -1.0          -21.0  \n",
       "5             -5.0            8.0  "
      ]
     },
     "execution_count": 7,
     "metadata": {},
     "output_type": "execute_result"
    }
   ],
   "source": [
    "# REFORMATING THE DATE VARIABLES\n",
    "#__________________________________________________________________________________\n",
    "flights['SCHEDULED_DEPARTURE'] = flights['SCHEDULED_DEPARTURE'].apply(format_heure) #create_flight_time(flights, 'SCHEDULED_DEPARTURE')\n",
    "flights['DEPARTURE_TIME'] = flights['DEPARTURE_TIME'].apply(format_heure)\n",
    "flights['SCHEDULED_ARRIVAL'] = flights['SCHEDULED_ARRIVAL'].apply(format_heure)\n",
    "flights['ARRIVAL_TIME'] = flights['ARRIVAL_TIME'].apply(format_heure)\n",
    "#__________________________________________________________________________\n",
    "flights.loc[:5, ['SCHEDULED_DEPARTURE', 'SCHEDULED_ARRIVAL', 'DEPARTURE_TIME',\n",
    "             'ARRIVAL_TIME', 'DEPARTURE_DELAY', 'ARRIVAL_DELAY']]"
   ]
  },
  {
   "cell_type": "code",
   "execution_count": 8,
   "metadata": {},
   "outputs": [
    {
     "data": {
      "text/html": [
       "<div>\n",
       "<style scoped>\n",
       "    .dataframe tbody tr th:only-of-type {\n",
       "        vertical-align: middle;\n",
       "    }\n",
       "\n",
       "    .dataframe tbody tr th {\n",
       "        vertical-align: top;\n",
       "    }\n",
       "\n",
       "    .dataframe thead th {\n",
       "        text-align: right;\n",
       "    }\n",
       "</style>\n",
       "<table border=\"1\" class=\"dataframe\">\n",
       "  <thead>\n",
       "    <tr style=\"text-align: right;\">\n",
       "      <th></th>\n",
       "      <th>AIRLINE</th>\n",
       "      <th>ORIGIN_AIRPORT</th>\n",
       "      <th>DESTINATION_AIRPORT</th>\n",
       "      <th>SCHEDULED_DEPARTURE</th>\n",
       "      <th>DEPARTURE_TIME</th>\n",
       "      <th>DEPARTURE_DELAY</th>\n",
       "      <th>SCHEDULED_ARRIVAL</th>\n",
       "      <th>ARRIVAL_TIME</th>\n",
       "      <th>ARRIVAL_DELAY</th>\n",
       "      <th>SCHEDULED_TIME</th>\n",
       "      <th>ELAPSED_TIME</th>\n",
       "      <th>MONTH</th>\n",
       "      <th>DAY_OF_WEEK</th>\n",
       "    </tr>\n",
       "  </thead>\n",
       "  <tbody>\n",
       "    <tr>\n",
       "      <th>0</th>\n",
       "      <td>AS</td>\n",
       "      <td>ANC</td>\n",
       "      <td>SEA</td>\n",
       "      <td>00:05:00</td>\n",
       "      <td>23:54:00</td>\n",
       "      <td>-11.0</td>\n",
       "      <td>04:30:00</td>\n",
       "      <td>04:08:00</td>\n",
       "      <td>-22.0</td>\n",
       "      <td>205.0</td>\n",
       "      <td>194.0</td>\n",
       "      <td>1</td>\n",
       "      <td>4</td>\n",
       "    </tr>\n",
       "    <tr>\n",
       "      <th>1</th>\n",
       "      <td>AA</td>\n",
       "      <td>LAX</td>\n",
       "      <td>PBI</td>\n",
       "      <td>00:10:00</td>\n",
       "      <td>00:02:00</td>\n",
       "      <td>-8.0</td>\n",
       "      <td>07:50:00</td>\n",
       "      <td>07:41:00</td>\n",
       "      <td>-9.0</td>\n",
       "      <td>280.0</td>\n",
       "      <td>279.0</td>\n",
       "      <td>1</td>\n",
       "      <td>4</td>\n",
       "    </tr>\n",
       "    <tr>\n",
       "      <th>2</th>\n",
       "      <td>US</td>\n",
       "      <td>SFO</td>\n",
       "      <td>CLT</td>\n",
       "      <td>00:20:00</td>\n",
       "      <td>00:18:00</td>\n",
       "      <td>-2.0</td>\n",
       "      <td>08:06:00</td>\n",
       "      <td>08:11:00</td>\n",
       "      <td>5.0</td>\n",
       "      <td>286.0</td>\n",
       "      <td>293.0</td>\n",
       "      <td>1</td>\n",
       "      <td>4</td>\n",
       "    </tr>\n",
       "    <tr>\n",
       "      <th>3</th>\n",
       "      <td>AA</td>\n",
       "      <td>LAX</td>\n",
       "      <td>MIA</td>\n",
       "      <td>00:20:00</td>\n",
       "      <td>00:15:00</td>\n",
       "      <td>-5.0</td>\n",
       "      <td>08:05:00</td>\n",
       "      <td>07:56:00</td>\n",
       "      <td>-9.0</td>\n",
       "      <td>285.0</td>\n",
       "      <td>281.0</td>\n",
       "      <td>1</td>\n",
       "      <td>4</td>\n",
       "    </tr>\n",
       "    <tr>\n",
       "      <th>4</th>\n",
       "      <td>AS</td>\n",
       "      <td>SEA</td>\n",
       "      <td>ANC</td>\n",
       "      <td>00:25:00</td>\n",
       "      <td>00:24:00</td>\n",
       "      <td>-1.0</td>\n",
       "      <td>03:20:00</td>\n",
       "      <td>02:59:00</td>\n",
       "      <td>-21.0</td>\n",
       "      <td>235.0</td>\n",
       "      <td>215.0</td>\n",
       "      <td>1</td>\n",
       "      <td>4</td>\n",
       "    </tr>\n",
       "  </tbody>\n",
       "</table>\n",
       "</div>"
      ],
      "text/plain": [
       "  AIRLINE ORIGIN_AIRPORT DESTINATION_AIRPORT SCHEDULED_DEPARTURE  \\\n",
       "0      AS            ANC                 SEA            00:05:00   \n",
       "1      AA            LAX                 PBI            00:10:00   \n",
       "2      US            SFO                 CLT            00:20:00   \n",
       "3      AA            LAX                 MIA            00:20:00   \n",
       "4      AS            SEA                 ANC            00:25:00   \n",
       "\n",
       "  DEPARTURE_TIME  DEPARTURE_DELAY SCHEDULED_ARRIVAL ARRIVAL_TIME  \\\n",
       "0       23:54:00            -11.0          04:30:00     04:08:00   \n",
       "1       00:02:00             -8.0          07:50:00     07:41:00   \n",
       "2       00:18:00             -2.0          08:06:00     08:11:00   \n",
       "3       00:15:00             -5.0          08:05:00     07:56:00   \n",
       "4       00:24:00             -1.0          03:20:00     02:59:00   \n",
       "\n",
       "   ARRIVAL_DELAY  SCHEDULED_TIME  ELAPSED_TIME  MONTH  DAY_OF_WEEK  \n",
       "0          -22.0           205.0         194.0      1            4  \n",
       "1           -9.0           280.0         279.0      1            4  \n",
       "2            5.0           286.0         293.0      1            4  \n",
       "3           -9.0           285.0         281.0      1            4  \n",
       "4          -21.0           235.0         215.0      1            4  "
      ]
     },
     "execution_count": 8,
     "metadata": {},
     "output_type": "execute_result"
    }
   ],
   "source": [
    "# DROPING IRRELEVANT COLUMNS\n",
    "#_____________________________________________________________________________________\n",
    "variables_to_remove = ['TAXI_OUT', 'TAXI_IN', 'WHEELS_ON', 'WHEELS_OFF', 'YEAR', \n",
    "                       'DAY','DATE', 'AIR_SYSTEM_DELAY',\n",
    "                       'SECURITY_DELAY', 'AIRLINE_DELAY', 'LATE_AIRCRAFT_DELAY',\n",
    "                       'WEATHER_DELAY', 'DIVERTED', 'CANCELLED', 'CANCELLATION_REASON',\n",
    "                       'FLIGHT_NUMBER', 'TAIL_NUMBER', 'AIR_TIME']\n",
    "flights.drop(variables_to_remove, axis = 1, inplace = True)\n",
    "flights = flights[['AIRLINE', 'ORIGIN_AIRPORT', 'DESTINATION_AIRPORT',\n",
    "        'SCHEDULED_DEPARTURE', 'DEPARTURE_TIME', 'DEPARTURE_DELAY',\n",
    "        'SCHEDULED_ARRIVAL', 'ARRIVAL_TIME', 'ARRIVAL_DELAY',\n",
    "        'SCHEDULED_TIME', 'ELAPSED_TIME','MONTH','DAY_OF_WEEK']]\n",
    "flights[:5]"
   ]
  },
  {
   "cell_type": "code",
   "execution_count": null,
   "metadata": {},
   "outputs": [],
   "source": [
    "# PROCESSING THE CATEGORICAL DATA\n",
    "#___________________________________________________________________\n",
    "flights['AIRLINE'] = flights['AIRLINE'].apply(lambda x: airlines[x])\n",
    "flights['ORGIN_AIRPORT_V'] = flights['ORIGIN_AIRPORT'].apply(lambda x: airports[x])\n",
    "flights['DESTINATION__AIRPORT_V'] = flights['DESTINATION_AIRPORT'].apply(lambda x: airports[x])\n",
    "flights['DAY_OF_WEEK'] = flights['DAY_OF_WEEK'].apply(lambda x: one_hot_encode(7,x))\n",
    "flights = flights[['AIRLINE','ORGIN_AIRPORT_V',\"DESTINATION__AIRPORT_V\",'ARRIVAL_DELAY','DAY_OF_WEEK','DEPARTURE_DELAY']]\n",
    "flights.head()"
   ]
  },
  {
   "cell_type": "code",
   "execution_count": 13,
   "metadata": {},
   "outputs": [],
   "source": [
    "# flights = flights[['AIRLINE', 'ORIGIN_AIRPORT_V', 'DESTINATION_AIRPORT_V','ARRIVAL_DELAY','DAY_OF_WEEK','DEPARTURE_DELAY']]"
   ]
  },
  {
   "cell_type": "code",
   "execution_count": 14,
   "metadata": {},
   "outputs": [
    {
     "data": {
      "text/html": [
       "<div>\n",
       "<style scoped>\n",
       "    .dataframe tbody tr th:only-of-type {\n",
       "        vertical-align: middle;\n",
       "    }\n",
       "\n",
       "    .dataframe tbody tr th {\n",
       "        vertical-align: top;\n",
       "    }\n",
       "\n",
       "    .dataframe thead th {\n",
       "        text-align: right;\n",
       "    }\n",
       "</style>\n",
       "<table border=\"1\" class=\"dataframe\">\n",
       "  <thead>\n",
       "    <tr style=\"text-align: right;\">\n",
       "      <th></th>\n",
       "      <th>AIRLINE</th>\n",
       "      <th>ORIGIN_AIRPORT</th>\n",
       "      <th>DESTINATION_AIRPORT</th>\n",
       "      <th>SCHEDULED_DEPARTURE</th>\n",
       "      <th>DEPARTURE_TIME</th>\n",
       "      <th>DEPARTURE_DELAY</th>\n",
       "      <th>SCHEDULED_ARRIVAL</th>\n",
       "      <th>ARRIVAL_TIME</th>\n",
       "      <th>ARRIVAL_DELAY</th>\n",
       "      <th>SCHEDULED_TIME</th>\n",
       "      <th>ELAPSED_TIME</th>\n",
       "      <th>MONTH</th>\n",
       "      <th>DAY_OF_WEEK</th>\n",
       "      <th>ORGIN_AIRPORT_V</th>\n",
       "      <th>DESTINATION__AIRPORT_V</th>\n",
       "    </tr>\n",
       "  </thead>\n",
       "  <tbody>\n",
       "    <tr>\n",
       "      <th>0</th>\n",
       "      <td>6</td>\n",
       "      <td>ANC</td>\n",
       "      <td>SEA</td>\n",
       "      <td>00:05:00</td>\n",
       "      <td>23:54:00</td>\n",
       "      <td>-11.0</td>\n",
       "      <td>04:30:00</td>\n",
       "      <td>04:08:00</td>\n",
       "      <td>-22.0</td>\n",
       "      <td>205.0</td>\n",
       "      <td>194.0</td>\n",
       "      <td>1</td>\n",
       "      <td>[1, 0, 0, 0, 0, 0, 1]</td>\n",
       "      <td>0</td>\n",
       "      <td>3</td>\n",
       "    </tr>\n",
       "    <tr>\n",
       "      <th>1</th>\n",
       "      <td>1</td>\n",
       "      <td>LAX</td>\n",
       "      <td>PBI</td>\n",
       "      <td>00:10:00</td>\n",
       "      <td>00:02:00</td>\n",
       "      <td>-8.0</td>\n",
       "      <td>07:50:00</td>\n",
       "      <td>07:41:00</td>\n",
       "      <td>-9.0</td>\n",
       "      <td>280.0</td>\n",
       "      <td>279.0</td>\n",
       "      <td>1</td>\n",
       "      <td>[1, 0, 0, 0, 0, 0, 1]</td>\n",
       "      <td>1</td>\n",
       "      <td>77</td>\n",
       "    </tr>\n",
       "    <tr>\n",
       "      <th>2</th>\n",
       "      <td>2</td>\n",
       "      <td>SFO</td>\n",
       "      <td>CLT</td>\n",
       "      <td>00:20:00</td>\n",
       "      <td>00:18:00</td>\n",
       "      <td>-2.0</td>\n",
       "      <td>08:06:00</td>\n",
       "      <td>08:11:00</td>\n",
       "      <td>5.0</td>\n",
       "      <td>286.0</td>\n",
       "      <td>293.0</td>\n",
       "      <td>1</td>\n",
       "      <td>[1, 0, 0, 0, 0, 0, 1]</td>\n",
       "      <td>2</td>\n",
       "      <td>97</td>\n",
       "    </tr>\n",
       "    <tr>\n",
       "      <th>3</th>\n",
       "      <td>1</td>\n",
       "      <td>LAX</td>\n",
       "      <td>MIA</td>\n",
       "      <td>00:20:00</td>\n",
       "      <td>00:15:00</td>\n",
       "      <td>-5.0</td>\n",
       "      <td>08:05:00</td>\n",
       "      <td>07:56:00</td>\n",
       "      <td>-9.0</td>\n",
       "      <td>285.0</td>\n",
       "      <td>281.0</td>\n",
       "      <td>1</td>\n",
       "      <td>[1, 0, 0, 0, 0, 0, 1]</td>\n",
       "      <td>1</td>\n",
       "      <td>84</td>\n",
       "    </tr>\n",
       "    <tr>\n",
       "      <th>4</th>\n",
       "      <td>6</td>\n",
       "      <td>SEA</td>\n",
       "      <td>ANC</td>\n",
       "      <td>00:25:00</td>\n",
       "      <td>00:24:00</td>\n",
       "      <td>-1.0</td>\n",
       "      <td>03:20:00</td>\n",
       "      <td>02:59:00</td>\n",
       "      <td>-21.0</td>\n",
       "      <td>235.0</td>\n",
       "      <td>215.0</td>\n",
       "      <td>1</td>\n",
       "      <td>[1, 0, 0, 0, 0, 0, 1]</td>\n",
       "      <td>3</td>\n",
       "      <td>0</td>\n",
       "    </tr>\n",
       "  </tbody>\n",
       "</table>\n",
       "</div>"
      ],
      "text/plain": [
       "   AIRLINE ORIGIN_AIRPORT DESTINATION_AIRPORT SCHEDULED_DEPARTURE  \\\n",
       "0        6            ANC                 SEA            00:05:00   \n",
       "1        1            LAX                 PBI            00:10:00   \n",
       "2        2            SFO                 CLT            00:20:00   \n",
       "3        1            LAX                 MIA            00:20:00   \n",
       "4        6            SEA                 ANC            00:25:00   \n",
       "\n",
       "  DEPARTURE_TIME  DEPARTURE_DELAY SCHEDULED_ARRIVAL ARRIVAL_TIME  \\\n",
       "0       23:54:00            -11.0          04:30:00     04:08:00   \n",
       "1       00:02:00             -8.0          07:50:00     07:41:00   \n",
       "2       00:18:00             -2.0          08:06:00     08:11:00   \n",
       "3       00:15:00             -5.0          08:05:00     07:56:00   \n",
       "4       00:24:00             -1.0          03:20:00     02:59:00   \n",
       "\n",
       "   ARRIVAL_DELAY  SCHEDULED_TIME  ELAPSED_TIME  MONTH            DAY_OF_WEEK  \\\n",
       "0          -22.0           205.0         194.0      1  [1, 0, 0, 0, 0, 0, 1]   \n",
       "1           -9.0           280.0         279.0      1  [1, 0, 0, 0, 0, 0, 1]   \n",
       "2            5.0           286.0         293.0      1  [1, 0, 0, 0, 0, 0, 1]   \n",
       "3           -9.0           285.0         281.0      1  [1, 0, 0, 0, 0, 0, 1]   \n",
       "4          -21.0           235.0         215.0      1  [1, 0, 0, 0, 0, 0, 1]   \n",
       "\n",
       "   ORGIN_AIRPORT_V  DESTINATION__AIRPORT_V  \n",
       "0                0                       3  \n",
       "1                1                      77  \n",
       "2                2                      97  \n",
       "3                1                      84  \n",
       "4                3                       0  "
      ]
     },
     "execution_count": 14,
     "metadata": {},
     "output_type": "execute_result"
    }
   ],
   "source": [
    "flights.head()\n"
   ]
  },
  {
   "cell_type": "code",
   "execution_count": 16,
   "metadata": {},
   "outputs": [],
   "source": [
    "# flights = flights[['AIRLINE','ORGIN_AIRPORT_V',\"DESTINATION__AIRPORT_V\",'ARRIVAL_DELAY','DAY_OF_WEEK','DEPARTURE_DELAY']]"
   ]
  },
  {
   "cell_type": "code",
   "execution_count": 17,
   "metadata": {},
   "outputs": [
    {
     "name": "stderr",
     "output_type": "stream",
     "text": [
      "/home/sachin/anaconda3/envs/deep/lib/python3.6/site-packages/ipykernel_launcher.py:3: SettingWithCopyWarning: \n",
      "A value is trying to be set on a copy of a slice from a DataFrame\n",
      "\n",
      "See the caveats in the documentation: http://pandas.pydata.org/pandas-docs/stable/user_guide/indexing.html#returning-a-view-versus-a-copy\n",
      "  This is separate from the ipykernel package so we can avoid doing imports until\n"
     ]
    },
    {
     "data": {
      "text/html": [
       "<div>\n",
       "<style scoped>\n",
       "    .dataframe tbody tr th:only-of-type {\n",
       "        vertical-align: middle;\n",
       "    }\n",
       "\n",
       "    .dataframe tbody tr th {\n",
       "        vertical-align: top;\n",
       "    }\n",
       "\n",
       "    .dataframe thead th {\n",
       "        text-align: right;\n",
       "    }\n",
       "</style>\n",
       "<table border=\"1\" class=\"dataframe\">\n",
       "  <thead>\n",
       "    <tr style=\"text-align: right;\">\n",
       "      <th></th>\n",
       "      <th>index</th>\n",
       "      <th>AIRLINE</th>\n",
       "      <th>ORGIN_AIRPORT_V</th>\n",
       "      <th>DESTINATION__AIRPORT_V</th>\n",
       "      <th>ARRIVAL_DELAY</th>\n",
       "      <th>DAY_OF_WEEK</th>\n",
       "      <th>DEPARTURE_DELAY</th>\n",
       "    </tr>\n",
       "  </thead>\n",
       "  <tbody>\n",
       "    <tr>\n",
       "      <th>0</th>\n",
       "      <td>0</td>\n",
       "      <td>6</td>\n",
       "      <td>0</td>\n",
       "      <td>3</td>\n",
       "      <td>-22.0</td>\n",
       "      <td>[1, 0, 0, 0, 0, 0, 1]</td>\n",
       "      <td>-11.0</td>\n",
       "    </tr>\n",
       "    <tr>\n",
       "      <th>1</th>\n",
       "      <td>1</td>\n",
       "      <td>1</td>\n",
       "      <td>1</td>\n",
       "      <td>77</td>\n",
       "      <td>-9.0</td>\n",
       "      <td>[1, 0, 0, 0, 0, 0, 1]</td>\n",
       "      <td>-8.0</td>\n",
       "    </tr>\n",
       "    <tr>\n",
       "      <th>2</th>\n",
       "      <td>2</td>\n",
       "      <td>2</td>\n",
       "      <td>2</td>\n",
       "      <td>97</td>\n",
       "      <td>5.0</td>\n",
       "      <td>[1, 0, 0, 0, 0, 0, 1]</td>\n",
       "      <td>-2.0</td>\n",
       "    </tr>\n",
       "    <tr>\n",
       "      <th>3</th>\n",
       "      <td>3</td>\n",
       "      <td>1</td>\n",
       "      <td>1</td>\n",
       "      <td>84</td>\n",
       "      <td>-9.0</td>\n",
       "      <td>[1, 0, 0, 0, 0, 0, 1]</td>\n",
       "      <td>-5.0</td>\n",
       "    </tr>\n",
       "    <tr>\n",
       "      <th>4</th>\n",
       "      <td>4</td>\n",
       "      <td>6</td>\n",
       "      <td>3</td>\n",
       "      <td>0</td>\n",
       "      <td>-21.0</td>\n",
       "      <td>[1, 0, 0, 0, 0, 0, 1]</td>\n",
       "      <td>-1.0</td>\n",
       "    </tr>\n",
       "  </tbody>\n",
       "</table>\n",
       "</div>"
      ],
      "text/plain": [
       "   index  AIRLINE  ORGIN_AIRPORT_V  DESTINATION__AIRPORT_V  ARRIVAL_DELAY  \\\n",
       "0      0        6                0                       3          -22.0   \n",
       "1      1        1                1                      77           -9.0   \n",
       "2      2        2                2                      97            5.0   \n",
       "3      3        1                1                      84           -9.0   \n",
       "4      4        6                3                       0          -21.0   \n",
       "\n",
       "             DAY_OF_WEEK  DEPARTURE_DELAY  \n",
       "0  [1, 0, 0, 0, 0, 0, 1]            -11.0  \n",
       "1  [1, 0, 0, 0, 0, 0, 1]             -8.0  \n",
       "2  [1, 0, 0, 0, 0, 0, 1]             -2.0  \n",
       "3  [1, 0, 0, 0, 0, 0, 1]             -5.0  \n",
       "4  [1, 0, 0, 0, 0, 0, 1]             -1.0  "
      ]
     },
     "execution_count": 17,
     "metadata": {},
     "output_type": "execute_result"
    }
   ],
   "source": [
    "# CLEAN UP\n",
    "#______________________________\n",
    "flights.dropna(inplace =True)\n",
    "flights = flights.reset_index()\n",
    "flights[:5]"
   ]
  },
  {
   "cell_type": "code",
   "execution_count": 18,
   "metadata": {},
   "outputs": [],
   "source": [
    "# MAKING THE SEQUENCES OF INPUT DATA\n",
    "#________________________________________________________________\n",
    "spequence_length = 200\n",
    "start = 0\n",
    "data_batch = {}\n",
    "labels = {}\n",
    "for i,x in enumerate(range(0,len(flights),spequence_length)):\n",
    "#     print('id_{}:{}'.format(i,x))\n",
    "    data_batch['id_{}'.format(i)] = [i for i in range(start,x)]\n",
    "    labels['id_{}'.format(i)] = flights.loc[x,'DEPARTURE_DELAY']\n",
    "    start = x"
   ]
  },
  {
   "cell_type": "code",
   "execution_count": 53,
   "metadata": {},
   "outputs": [],
   "source": [
    "# DATA GENERATOR CLASS FOR EASY ACCESS AND PARALLELIZATION\n",
    "#___________________________________________________________\n",
    "class DataGen(data.Dataset):\n",
    "    def __init__(self,list_id,labels):\n",
    "        self.list_id = list_id\n",
    "        self.labels = labels\n",
    "    def __len__(self):\n",
    "        return len(self.list_id)\n",
    "    def __getitem__(self,index):\n",
    "        ID = self.list_id[index]\n",
    "        ind = data_batch[ID]\n",
    "        X = flights.loc[ind,:'DAY_OF_WEEK']\n",
    "        y = labels[ID]\n",
    "        return y,{'DAY_OF_WEEK':torch.tensor(X.DAY_OF_WEEK.to_list()),\n",
    "                  'ARRIVAL_DELAY':torch.tensor(X.ARRIVAL_DELAY.to_list(),dtype=torch.long)}"
   ]
  },
  {
   "cell_type": "code",
   "execution_count": 54,
   "metadata": {},
   "outputs": [],
   "source": [
    "# PARAMETER FOR THE GENERATOR\n",
    "#_____________________________\n",
    "params = {'batch_size': 3,\n",
    "          'shuffle': False,\n",
    "          'num_workers': 6}"
   ]
  },
  {
   "cell_type": "code",
   "execution_count": 55,
   "metadata": {},
   "outputs": [],
   "source": [
    "# SPLITING UP THE DATA INTO TRAINING AND VALIDATION\n",
    "#_____________________________________________________\n",
    "seed(1234)\n",
    "length = int(len(data_batch.keys())*0.75)\n",
    "training_ids = sample(list(data_batch.keys()),length)\n",
    "validation_ids = []\n",
    "for i in list(data_batch.keys()):\n",
    "    if i not in training_ids:\n",
    "        validation_ids.append(i)"
   ]
  },
  {
   "cell_type": "code",
   "execution_count": 56,
   "metadata": {},
   "outputs": [],
   "source": [
    "#CREATING DATALOADERS\n",
    "#_______________________________________________________________\n",
    "training_set = DataGen(training_ids, labels)\n",
    "training_generator = data.DataLoader(training_set, **params)\n",
    "validation_set = DataGen(validation_ids, labels)\n",
    "validation_generator = data.DataLoader(validation_set, **params)"
   ]
  },
  {
   "cell_type": "code",
   "execution_count": 57,
   "metadata": {},
   "outputs": [],
   "source": [
    "y,x = next(iter(training_generator))# training_set.__getitem__(0)"
   ]
  },
  {
   "cell_type": "code",
   "execution_count": 58,
   "metadata": {},
   "outputs": [
    {
     "data": {
      "text/plain": [
       "{'DAY_OF_WEEK': tensor([[[1, 0, 0,  ..., 0, 0, 1],\n",
       "          [1, 0, 0,  ..., 0, 0, 1],\n",
       "          [1, 0, 0,  ..., 0, 0, 1],\n",
       "          ...,\n",
       "          [1, 0, 0,  ..., 0, 0, 1],\n",
       "          [1, 0, 0,  ..., 0, 0, 1],\n",
       "          [1, 0, 0,  ..., 0, 0, 1]],\n",
       " \n",
       "         [[1, 0, 0,  ..., 0, 0, 1],\n",
       "          [1, 0, 0,  ..., 0, 0, 1],\n",
       "          [1, 0, 0,  ..., 0, 0, 1],\n",
       "          ...,\n",
       "          [1, 0, 0,  ..., 0, 0, 1],\n",
       "          [1, 0, 0,  ..., 0, 0, 1],\n",
       "          [1, 0, 0,  ..., 0, 0, 1]],\n",
       " \n",
       "         [[1, 0, 0,  ..., 0, 0, 1],\n",
       "          [1, 0, 0,  ..., 0, 0, 1],\n",
       "          [1, 0, 0,  ..., 0, 0, 1],\n",
       "          ...,\n",
       "          [1, 0, 0,  ..., 0, 0, 1],\n",
       "          [1, 0, 0,  ..., 0, 0, 1],\n",
       "          [1, 0, 0,  ..., 0, 0, 1]]]),\n",
       " 'ARRIVAL_DELAY': tensor([[ 21, -15, -12,  -7, -17,  16,  -7, -18, -13,   5,  -6,  -5, -18, -16,\n",
       "          -17,   8,   7,  -5, -21, -22,  -8,  -9,  14,  -8, -10, -18,  85,  -7,\n",
       "           11,  10, -22,  -8,  -1, -12, -24, -21,  -6, -17,  -8,  -4, -12, -27,\n",
       "            0, -19, -15,   3,  -4,  -9,  -8,  -5,   2, -22, -37, 154, -15,  35,\n",
       "          -48, -11,  -4, -16,  42, -15, -22, -15, -15, -13,  19, -12,  -3, -20,\n",
       "           21,   1,   0, -11,  -9, -13, 186,   8,   9,  -7,  -9,   8,  -5, -11,\n",
       "            7,  -3, -13,   9, -10,  -3, -18, -14, -13, -34, 100, -12,  34,   0,\n",
       "            0,   2,  -2, -16,  24, -24, -27,   1, -24,  72,  43,  14,  32, -11,\n",
       "           -4, -15, -23,  -2,  35, -31,  -3, -14,  -8,  30,  -5,  -3, -19,  12,\n",
       "           -5,  -7, -23,  -4, -27, -14, -10,  -8,  21, -27,   7, -15, -19,   3,\n",
       "           -2, 117,  20, -10,  28,  17,   1,  28, -23, 117, -21,  54,  -1,  13,\n",
       "           -5, -26,   4, -14,   1, -14,  40,   9, -13,  -6, -18, 251, -12,  -1,\n",
       "           -5, -16,  -6, -10, -23,  50, -30, -14,  -8,  -4, -10, 115, -17, -21,\n",
       "           -9,  -9, -37, -16,  -7,   7,  19, -22, -11,  -4,  -9, -13, -23, -33,\n",
       "           -1,   2,  -5,  -7],\n",
       "         [ 16,  28,   5, -12, -15, -16, 103,   4,  11, -18,  -3,   3,  -3, -23,\n",
       "           10,  -1, -18,   6,  15, -12,  -9, -16, -17,  -3,  -1, -10,  12, -15,\n",
       "            6,  10,  -4,  -1, -16, -18, 132, -11,   1,  -9,  66,   2,  -4, -30,\n",
       "           -2,   4,   8,   3,  -9,   2,   1,  -2, 102,  -9,   3,  82,  -3, -20,\n",
       "          -12,  -3,  95,   3,  12, -13,  -5,  -1,  -7, -17, -13,   2,  -7, -11,\n",
       "          -32,   0,  -2, -18,   9,  -6,  14,   4, -12,  -2, -12, -10, -19,  -8,\n",
       "          -13, -40,  -8, -24, -17, -24,   3, -22,   9, -18, -22,  25, -15,  89,\n",
       "           -7,  -4, -28,   1,   5,  -6,   9,  -5,  32, -10, -11, -15,   3, 104,\n",
       "           18,  -5,  16,  10,  12,  36, -26, -10,  -4, -19, -25, -27, -15, -14,\n",
       "          -20,   2,  11,  17, 198, -32, -20,  -1, -31,   3, -11,  17,  -9,  20,\n",
       "          -19,  -6, -18,  -2,  67,  10,  -5, -11,  -9,  -9,  -5, -13,  -4,  -7,\n",
       "           -7, -13, -10,  -9,  22,   8, -16, -10,   6,   4, -12, -16, -17,  -7,\n",
       "          -11, -19,   0,  -4,  36,  55,   4,  13,  12,  -6,  -3, -17,  -2,  -7,\n",
       "          -18,   8,  10,  14, -15,  -7, -25,   1, -17, -11, -23,   2,   3,   9,\n",
       "           12,  17,   8,  -5],\n",
       "         [-16, 134, -13,  -3,  14, -17,  11, -15, -45,  35,  -3, -12, -28,   4,\n",
       "          -10,   5, -15,  21,  30, -13,  29,  -4,  -2, -24, -21, -13,  32, -13,\n",
       "           53, -16, -12,  -9,  -4, -10,   3,  -9,  -3, -15,  58,  -4, -19,  49,\n",
       "          212,  54, -14,  10, -15,   1,  27,  -6,  12,  64, -10, -29,  13, -29,\n",
       "          -11,  -9, -11,  13,  -1, -19,  -7, -14,   0,  -6, 115,  26,   3,  14,\n",
       "           -6, -11,  -3,  -5, -14, -21,  -7, -11, -13,  31, -10,   0,  31,  11,\n",
       "            3, -13,  -5, -19,  33, 503,  45, -26,  -9,  -5,  26, -14,  -7, -15,\n",
       "            7, -23,   2,  -7, -18, -11, -10,  -9, -11,  12, -14, -14,  62,  55,\n",
       "            9,  38,  -7,  -8, -10,   2,  39, -14,   0,   2,   7, -18, -22, -11,\n",
       "          -25, 185,  -2, 163,  -1,   8,  72, -11, -20, -21,  17, -15, -19,  12,\n",
       "           -2, 132,  -8,   5, -17, -16,  -2,  19, -17, -33,   9, -21,  -9,   0,\n",
       "          -12,   5,  -8,  -5,  -6,  -6, -15, -11,  15, -11, -14, -17,   3,  12,\n",
       "          -16, -14,  35,  -2,   6,  93, -17,  35, -17,   9, 195,  71,  21,  -7,\n",
       "          -13, -25, -10,   0, -22,  -8,   3,   8, -25,   7, -17,   6,   5, -22,\n",
       "           10,   6,  19,  -3]])}"
      ]
     },
     "execution_count": 58,
     "metadata": {},
     "output_type": "execute_result"
    }
   ],
   "source": [
    "x"
   ]
  },
  {
   "cell_type": "code",
   "execution_count": 60,
   "metadata": {},
   "outputs": [
    {
     "data": {
      "text/plain": [
       "torch.Size([3, 200])"
      ]
     },
     "execution_count": 60,
     "metadata": {},
     "output_type": "execute_result"
    }
   ],
   "source": [
    "x['ARRIVAL_DELAY'].shape"
   ]
  },
  {
   "cell_type": "code",
   "execution_count": 61,
   "metadata": {},
   "outputs": [],
   "source": [
    "x['ARRIVAL_DELAY'] = x['ARRIVAL_DELAY'].reshape(3,200,1)"
   ]
  },
  {
   "cell_type": "code",
   "execution_count": 62,
   "metadata": {},
   "outputs": [
    {
     "data": {
      "text/plain": [
       "tensor([[  1,   0,   0,  ...,   0,   1,  21],\n",
       "        [  1,   0,   0,  ...,   0,   1, -15],\n",
       "        [  1,   0,   0,  ...,   0,   1, -12],\n",
       "        ...,\n",
       "        [  1,   0,   0,  ...,   0,   1,   2],\n",
       "        [  1,   0,   0,  ...,   0,   1,  -5],\n",
       "        [  1,   0,   0,  ...,   0,   1,  -7]])"
      ]
     },
     "execution_count": 62,
     "metadata": {},
     "output_type": "execute_result"
    }
   ],
   "source": [
    "torch.cat((x['DAY_OF_WEEK'][0],x['ARRIVAL_DELAY'][0]),1)"
   ]
  },
  {
   "cell_type": "code",
   "execution_count": 65,
   "metadata": {},
   "outputs": [
    {
     "data": {
      "text/plain": [
       "torch.Size([200, 1])"
      ]
     },
     "execution_count": 65,
     "metadata": {},
     "output_type": "execute_result"
    }
   ],
   "source": [
    "x['ARRIVAL_DELAY'][0].shape"
   ]
  },
  {
   "cell_type": "code",
   "execution_count": 66,
   "metadata": {},
   "outputs": [
    {
     "data": {
      "text/plain": [
       "torch.Size([200, 7])"
      ]
     },
     "execution_count": 66,
     "metadata": {},
     "output_type": "execute_result"
    }
   ],
   "source": [
    "x['DAY_OF_WEEK'][0].shape"
   ]
  },
  {
   "cell_type": "code",
   "execution_count": 67,
   "metadata": {},
   "outputs": [
    {
     "data": {
      "text/plain": [
       "tensor([[1, 2, 1, 2, 3],\n",
       "        [2, 1, 1, 2, 3],\n",
       "        [3, 1, 1, 2, 3]])"
      ]
     },
     "execution_count": 67,
     "metadata": {},
     "output_type": "execute_result"
    }
   ],
   "source": [
    "torch.cat((torch.tensor([[1,2],[2,1],[3,1]]),torch.tensor([[1,2,3],[1,2,3],[1,2,3]])),1)"
   ]
  },
  {
   "cell_type": "code",
   "execution_count": 68,
   "metadata": {},
   "outputs": [
    {
     "data": {
      "text/plain": [
       "torch.Size([3, 1])"
      ]
     },
     "execution_count": 68,
     "metadata": {},
     "output_type": "execute_result"
    }
   ],
   "source": [
    "torch.tensor([[1],[2],[3]]).shape"
   ]
  },
  {
   "cell_type": "code",
   "execution_count": 69,
   "metadata": {},
   "outputs": [
    {
     "data": {
      "text/plain": [
       "torch.Size([3, 3])"
      ]
     },
     "execution_count": 69,
     "metadata": {},
     "output_type": "execute_result"
    }
   ],
   "source": [
    "torch.tensor([[1,2,3],[1,2,3],[1,2,3]]).shape"
   ]
  },
  {
   "cell_type": "code",
   "execution_count": 80,
   "metadata": {},
   "outputs": [
    {
     "data": {
      "text/plain": [
       "tensor([[[  1,   0,   0,  ...,   0,   1,  21],\n",
       "         [  1,   0,   0,  ...,   0,   1, -15],\n",
       "         [  1,   0,   0,  ...,   0,   1, -12],\n",
       "         ...,\n",
       "         [  1,   0,   0,  ...,   0,   1,   2],\n",
       "         [  1,   0,   0,  ...,   0,   1,  -5],\n",
       "         [  1,   0,   0,  ...,   0,   1,  -7]],\n",
       "\n",
       "        [[  1,   0,   0,  ...,   0,   1,  16],\n",
       "         [  1,   0,   0,  ...,   0,   1,  28],\n",
       "         [  1,   0,   0,  ...,   0,   1,   5],\n",
       "         ...,\n",
       "         [  1,   0,   0,  ...,   0,   1,  17],\n",
       "         [  1,   0,   0,  ...,   0,   1,   8],\n",
       "         [  1,   0,   0,  ...,   0,   1,  -5]],\n",
       "\n",
       "        [[  1,   0,   0,  ...,   0,   1, -16],\n",
       "         [  1,   0,   0,  ...,   0,   1, 134],\n",
       "         [  1,   0,   0,  ...,   0,   1, -13],\n",
       "         ...,\n",
       "         [  1,   0,   0,  ...,   0,   1,   6],\n",
       "         [  1,   0,   0,  ...,   0,   1,  19],\n",
       "         [  1,   0,   0,  ...,   0,   1,  -3]]])"
      ]
     },
     "execution_count": 80,
     "metadata": {},
     "output_type": "execute_result"
    }
   ],
   "source": [
    "torch.cat((x['DAY_OF_WEEK'],x['ARRIVAL_DELAY']),2)"
   ]
  },
  {
   "cell_type": "code",
   "execution_count": 73,
   "metadata": {},
   "outputs": [
    {
     "data": {
      "text/plain": [
       "torch.Size([1, 200, 1])"
      ]
     },
     "execution_count": 73,
     "metadata": {},
     "output_type": "execute_result"
    }
   ],
   "source": [
    "x['ARRIVAL_DELAY'][:1].shape"
   ]
  },
  {
   "cell_type": "code",
   "execution_count": 74,
   "metadata": {},
   "outputs": [
    {
     "data": {
      "text/plain": [
       "torch.Size([1, 200, 7])"
      ]
     },
     "execution_count": 74,
     "metadata": {},
     "output_type": "execute_result"
    }
   ],
   "source": [
    "x['DAY_OF_WEEK'][:1].shape"
   ]
  },
  {
   "cell_type": "code",
   "execution_count": null,
   "metadata": {},
   "outputs": [],
   "source": []
  }
 ],
 "metadata": {
  "kernelspec": {
   "display_name": "Python 3",
   "language": "python",
   "name": "python3"
  },
  "language_info": {
   "codemirror_mode": {
    "name": "ipython",
    "version": 3
   },
   "file_extension": ".py",
   "mimetype": "text/x-python",
   "name": "python",
   "nbconvert_exporter": "python",
   "pygments_lexer": "ipython3",
   "version": "3.6.10"
  }
 },
 "nbformat": 4,
 "nbformat_minor": 2
}
