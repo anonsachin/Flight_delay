{
 "cells": [
  {
   "cell_type": "markdown",
   "metadata": {},
   "source": [
    "# Flight Delay prediction"
   ]
  },
  {
   "cell_type": "code",
   "execution_count": 1,
   "metadata": {},
   "outputs": [],
   "source": [
    "import numpy as np\n",
    "import pandas as pd\n",
    "import torch\n",
    "import torch.nn as nn\n",
    "import datetime\n",
    "from torch.utils import data\n",
    "from random import sample,seed"
   ]
  },
  {
   "cell_type": "markdown",
   "metadata": {},
   "source": [
    "## Importing Flight Data"
   ]
  },
  {
   "cell_type": "code",
   "execution_count": 2,
   "metadata": {},
   "outputs": [],
   "source": [
    "flights = pd.read_csv(\"./data/flights.csv\",low_memory=False)\n",
    "airlines = pd.read_csv(\"./data/airlines.csv\")\n",
    "airports = pd.read_csv(\"./data/airports.csv\")"
   ]
  },
  {
   "cell_type": "markdown",
   "metadata": {},
   "source": [
    "## Preprocessing of the data"
   ]
  },
  {
   "cell_type": "code",
   "execution_count": 3,
   "metadata": {},
   "outputs": [],
   "source": [
    "airports = {ch:i for i,ch in enumerate(flights.ORIGIN_AIRPORT.unique())}\n",
    "airlines = {ch:i for i,ch in enumerate(airlines.IATA_CODE)}\n",
    "airports['10666'] =len(airports)"
   ]
  },
  {
   "cell_type": "code",
   "execution_count": 4,
   "metadata": {},
   "outputs": [],
   "source": [
    "# one hot encoder for day of the week\n",
    "def one_hot_encode(size,val):\n",
    "    a = np.zeros((size,),dtype=int)\n",
    "    a[(val-1)] = 1\n",
    "    return a"
   ]
  },
  {
   "cell_type": "code",
   "execution_count": 5,
   "metadata": {},
   "outputs": [],
   "source": [
    "# Date and time preprocess copied from\n",
    "# link - https://www.kaggle.com/fabiendaniel/predicting-flight-delays-tutorial/data\n",
    "#_________________________________________________________\n",
    "# Function that convert the 'HHMM' string to datetime.time\n",
    "def format_heure(chaine):\n",
    "    if pd.isnull(chaine):\n",
    "        return np.nan\n",
    "    else:\n",
    "        if chaine == 2400: chaine = 0\n",
    "        chaine = \"{0:04d}\".format(int(chaine))\n",
    "        heure = datetime.time(int(chaine[0:2]), int(chaine[2:4]))\n",
    "        return heure"
   ]
  },
  {
   "cell_type": "code",
   "execution_count": 6,
   "metadata": {},
   "outputs": [],
   "source": [
    "flights['DATE'] = pd.to_datetime(flights[['YEAR','MONTH', 'DAY']])"
   ]
  },
  {
   "cell_type": "code",
   "execution_count": 7,
   "metadata": {},
   "outputs": [
    {
     "data": {
      "text/html": [
       "<div>\n",
       "<style scoped>\n",
       "    .dataframe tbody tr th:only-of-type {\n",
       "        vertical-align: middle;\n",
       "    }\n",
       "\n",
       "    .dataframe tbody tr th {\n",
       "        vertical-align: top;\n",
       "    }\n",
       "\n",
       "    .dataframe thead th {\n",
       "        text-align: right;\n",
       "    }\n",
       "</style>\n",
       "<table border=\"1\" class=\"dataframe\">\n",
       "  <thead>\n",
       "    <tr style=\"text-align: right;\">\n",
       "      <th></th>\n",
       "      <th>SCHEDULED_DEPARTURE</th>\n",
       "      <th>SCHEDULED_ARRIVAL</th>\n",
       "      <th>DEPARTURE_TIME</th>\n",
       "      <th>ARRIVAL_TIME</th>\n",
       "      <th>DEPARTURE_DELAY</th>\n",
       "      <th>ARRIVAL_DELAY</th>\n",
       "    </tr>\n",
       "  </thead>\n",
       "  <tbody>\n",
       "    <tr>\n",
       "      <th>0</th>\n",
       "      <td>00:05:00</td>\n",
       "      <td>04:30:00</td>\n",
       "      <td>23:54:00</td>\n",
       "      <td>04:08:00</td>\n",
       "      <td>-11.0</td>\n",
       "      <td>-22.0</td>\n",
       "    </tr>\n",
       "    <tr>\n",
       "      <th>1</th>\n",
       "      <td>00:10:00</td>\n",
       "      <td>07:50:00</td>\n",
       "      <td>00:02:00</td>\n",
       "      <td>07:41:00</td>\n",
       "      <td>-8.0</td>\n",
       "      <td>-9.0</td>\n",
       "    </tr>\n",
       "    <tr>\n",
       "      <th>2</th>\n",
       "      <td>00:20:00</td>\n",
       "      <td>08:06:00</td>\n",
       "      <td>00:18:00</td>\n",
       "      <td>08:11:00</td>\n",
       "      <td>-2.0</td>\n",
       "      <td>5.0</td>\n",
       "    </tr>\n",
       "    <tr>\n",
       "      <th>3</th>\n",
       "      <td>00:20:00</td>\n",
       "      <td>08:05:00</td>\n",
       "      <td>00:15:00</td>\n",
       "      <td>07:56:00</td>\n",
       "      <td>-5.0</td>\n",
       "      <td>-9.0</td>\n",
       "    </tr>\n",
       "    <tr>\n",
       "      <th>4</th>\n",
       "      <td>00:25:00</td>\n",
       "      <td>03:20:00</td>\n",
       "      <td>00:24:00</td>\n",
       "      <td>02:59:00</td>\n",
       "      <td>-1.0</td>\n",
       "      <td>-21.0</td>\n",
       "    </tr>\n",
       "    <tr>\n",
       "      <th>5</th>\n",
       "      <td>00:25:00</td>\n",
       "      <td>06:02:00</td>\n",
       "      <td>00:20:00</td>\n",
       "      <td>06:10:00</td>\n",
       "      <td>-5.0</td>\n",
       "      <td>8.0</td>\n",
       "    </tr>\n",
       "  </tbody>\n",
       "</table>\n",
       "</div>"
      ],
      "text/plain": [
       "  SCHEDULED_DEPARTURE SCHEDULED_ARRIVAL DEPARTURE_TIME ARRIVAL_TIME  \\\n",
       "0            00:05:00          04:30:00       23:54:00     04:08:00   \n",
       "1            00:10:00          07:50:00       00:02:00     07:41:00   \n",
       "2            00:20:00          08:06:00       00:18:00     08:11:00   \n",
       "3            00:20:00          08:05:00       00:15:00     07:56:00   \n",
       "4            00:25:00          03:20:00       00:24:00     02:59:00   \n",
       "5            00:25:00          06:02:00       00:20:00     06:10:00   \n",
       "\n",
       "   DEPARTURE_DELAY  ARRIVAL_DELAY  \n",
       "0            -11.0          -22.0  \n",
       "1             -8.0           -9.0  \n",
       "2             -2.0            5.0  \n",
       "3             -5.0           -9.0  \n",
       "4             -1.0          -21.0  \n",
       "5             -5.0            8.0  "
      ]
     },
     "execution_count": 7,
     "metadata": {},
     "output_type": "execute_result"
    }
   ],
   "source": [
    "# REFORMATING THE DATE VARIABLES\n",
    "#__________________________________________________________________________________\n",
    "flights['SCHEDULED_DEPARTURE'] = flights['SCHEDULED_DEPARTURE'].apply(format_heure) #create_flight_time(flights, 'SCHEDULED_DEPARTURE')\n",
    "flights['DEPARTURE_TIME'] = flights['DEPARTURE_TIME'].apply(format_heure)\n",
    "flights['SCHEDULED_ARRIVAL'] = flights['SCHEDULED_ARRIVAL'].apply(format_heure)\n",
    "flights['ARRIVAL_TIME'] = flights['ARRIVAL_TIME'].apply(format_heure)\n",
    "#__________________________________________________________________________\n",
    "flights.loc[:5, ['SCHEDULED_DEPARTURE', 'SCHEDULED_ARRIVAL', 'DEPARTURE_TIME',\n",
    "             'ARRIVAL_TIME', 'DEPARTURE_DELAY', 'ARRIVAL_DELAY']]"
   ]
  },
  {
   "cell_type": "code",
   "execution_count": 8,
   "metadata": {},
   "outputs": [
    {
     "data": {
      "text/html": [
       "<div>\n",
       "<style scoped>\n",
       "    .dataframe tbody tr th:only-of-type {\n",
       "        vertical-align: middle;\n",
       "    }\n",
       "\n",
       "    .dataframe tbody tr th {\n",
       "        vertical-align: top;\n",
       "    }\n",
       "\n",
       "    .dataframe thead th {\n",
       "        text-align: right;\n",
       "    }\n",
       "</style>\n",
       "<table border=\"1\" class=\"dataframe\">\n",
       "  <thead>\n",
       "    <tr style=\"text-align: right;\">\n",
       "      <th></th>\n",
       "      <th>AIRLINE</th>\n",
       "      <th>ORIGIN_AIRPORT</th>\n",
       "      <th>DESTINATION_AIRPORT</th>\n",
       "      <th>SCHEDULED_DEPARTURE</th>\n",
       "      <th>DEPARTURE_TIME</th>\n",
       "      <th>DEPARTURE_DELAY</th>\n",
       "      <th>SCHEDULED_ARRIVAL</th>\n",
       "      <th>ARRIVAL_TIME</th>\n",
       "      <th>ARRIVAL_DELAY</th>\n",
       "      <th>SCHEDULED_TIME</th>\n",
       "      <th>ELAPSED_TIME</th>\n",
       "      <th>MONTH</th>\n",
       "      <th>DAY_OF_WEEK</th>\n",
       "    </tr>\n",
       "  </thead>\n",
       "  <tbody>\n",
       "    <tr>\n",
       "      <th>0</th>\n",
       "      <td>AS</td>\n",
       "      <td>ANC</td>\n",
       "      <td>SEA</td>\n",
       "      <td>00:05:00</td>\n",
       "      <td>23:54:00</td>\n",
       "      <td>-11.0</td>\n",
       "      <td>04:30:00</td>\n",
       "      <td>04:08:00</td>\n",
       "      <td>-22.0</td>\n",
       "      <td>205.0</td>\n",
       "      <td>194.0</td>\n",
       "      <td>1</td>\n",
       "      <td>4</td>\n",
       "    </tr>\n",
       "    <tr>\n",
       "      <th>1</th>\n",
       "      <td>AA</td>\n",
       "      <td>LAX</td>\n",
       "      <td>PBI</td>\n",
       "      <td>00:10:00</td>\n",
       "      <td>00:02:00</td>\n",
       "      <td>-8.0</td>\n",
       "      <td>07:50:00</td>\n",
       "      <td>07:41:00</td>\n",
       "      <td>-9.0</td>\n",
       "      <td>280.0</td>\n",
       "      <td>279.0</td>\n",
       "      <td>1</td>\n",
       "      <td>4</td>\n",
       "    </tr>\n",
       "    <tr>\n",
       "      <th>2</th>\n",
       "      <td>US</td>\n",
       "      <td>SFO</td>\n",
       "      <td>CLT</td>\n",
       "      <td>00:20:00</td>\n",
       "      <td>00:18:00</td>\n",
       "      <td>-2.0</td>\n",
       "      <td>08:06:00</td>\n",
       "      <td>08:11:00</td>\n",
       "      <td>5.0</td>\n",
       "      <td>286.0</td>\n",
       "      <td>293.0</td>\n",
       "      <td>1</td>\n",
       "      <td>4</td>\n",
       "    </tr>\n",
       "    <tr>\n",
       "      <th>3</th>\n",
       "      <td>AA</td>\n",
       "      <td>LAX</td>\n",
       "      <td>MIA</td>\n",
       "      <td>00:20:00</td>\n",
       "      <td>00:15:00</td>\n",
       "      <td>-5.0</td>\n",
       "      <td>08:05:00</td>\n",
       "      <td>07:56:00</td>\n",
       "      <td>-9.0</td>\n",
       "      <td>285.0</td>\n",
       "      <td>281.0</td>\n",
       "      <td>1</td>\n",
       "      <td>4</td>\n",
       "    </tr>\n",
       "    <tr>\n",
       "      <th>4</th>\n",
       "      <td>AS</td>\n",
       "      <td>SEA</td>\n",
       "      <td>ANC</td>\n",
       "      <td>00:25:00</td>\n",
       "      <td>00:24:00</td>\n",
       "      <td>-1.0</td>\n",
       "      <td>03:20:00</td>\n",
       "      <td>02:59:00</td>\n",
       "      <td>-21.0</td>\n",
       "      <td>235.0</td>\n",
       "      <td>215.0</td>\n",
       "      <td>1</td>\n",
       "      <td>4</td>\n",
       "    </tr>\n",
       "  </tbody>\n",
       "</table>\n",
       "</div>"
      ],
      "text/plain": [
       "  AIRLINE ORIGIN_AIRPORT DESTINATION_AIRPORT SCHEDULED_DEPARTURE  \\\n",
       "0      AS            ANC                 SEA            00:05:00   \n",
       "1      AA            LAX                 PBI            00:10:00   \n",
       "2      US            SFO                 CLT            00:20:00   \n",
       "3      AA            LAX                 MIA            00:20:00   \n",
       "4      AS            SEA                 ANC            00:25:00   \n",
       "\n",
       "  DEPARTURE_TIME  DEPARTURE_DELAY SCHEDULED_ARRIVAL ARRIVAL_TIME  \\\n",
       "0       23:54:00            -11.0          04:30:00     04:08:00   \n",
       "1       00:02:00             -8.0          07:50:00     07:41:00   \n",
       "2       00:18:00             -2.0          08:06:00     08:11:00   \n",
       "3       00:15:00             -5.0          08:05:00     07:56:00   \n",
       "4       00:24:00             -1.0          03:20:00     02:59:00   \n",
       "\n",
       "   ARRIVAL_DELAY  SCHEDULED_TIME  ELAPSED_TIME  MONTH  DAY_OF_WEEK  \n",
       "0          -22.0           205.0         194.0      1            4  \n",
       "1           -9.0           280.0         279.0      1            4  \n",
       "2            5.0           286.0         293.0      1            4  \n",
       "3           -9.0           285.0         281.0      1            4  \n",
       "4          -21.0           235.0         215.0      1            4  "
      ]
     },
     "execution_count": 8,
     "metadata": {},
     "output_type": "execute_result"
    }
   ],
   "source": [
    "# DROPING IRRELEVANT COLUMNS\n",
    "#_____________________________________________________________________________________\n",
    "variables_to_remove = ['TAXI_OUT', 'TAXI_IN', 'WHEELS_ON', 'WHEELS_OFF', 'YEAR', \n",
    "                       'DAY','DATE', 'AIR_SYSTEM_DELAY',\n",
    "                       'SECURITY_DELAY', 'AIRLINE_DELAY', 'LATE_AIRCRAFT_DELAY',\n",
    "                       'WEATHER_DELAY', 'DIVERTED', 'CANCELLED', 'CANCELLATION_REASON',\n",
    "                       'FLIGHT_NUMBER', 'TAIL_NUMBER', 'AIR_TIME']\n",
    "flights.drop(variables_to_remove, axis = 1, inplace = True)\n",
    "flights = flights[['AIRLINE', 'ORIGIN_AIRPORT', 'DESTINATION_AIRPORT',\n",
    "        'SCHEDULED_DEPARTURE', 'DEPARTURE_TIME', 'DEPARTURE_DELAY',\n",
    "        'SCHEDULED_ARRIVAL', 'ARRIVAL_TIME', 'ARRIVAL_DELAY',\n",
    "        'SCHEDULED_TIME', 'ELAPSED_TIME','MONTH','DAY_OF_WEEK']]\n",
    "flights[:5]"
   ]
  },
  {
   "cell_type": "code",
   "execution_count": 9,
   "metadata": {},
   "outputs": [
    {
     "data": {
      "text/html": [
       "<div>\n",
       "<style scoped>\n",
       "    .dataframe tbody tr th:only-of-type {\n",
       "        vertical-align: middle;\n",
       "    }\n",
       "\n",
       "    .dataframe tbody tr th {\n",
       "        vertical-align: top;\n",
       "    }\n",
       "\n",
       "    .dataframe thead th {\n",
       "        text-align: right;\n",
       "    }\n",
       "</style>\n",
       "<table border=\"1\" class=\"dataframe\">\n",
       "  <thead>\n",
       "    <tr style=\"text-align: right;\">\n",
       "      <th></th>\n",
       "      <th>AIRLINE</th>\n",
       "      <th>ORGIN_AIRPORT_V</th>\n",
       "      <th>DESTINATION__AIRPORT_V</th>\n",
       "      <th>ARRIVAL_DELAY</th>\n",
       "      <th>DAY_OF_WEEK</th>\n",
       "      <th>DEPARTURE_DELAY</th>\n",
       "    </tr>\n",
       "  </thead>\n",
       "  <tbody>\n",
       "    <tr>\n",
       "      <th>0</th>\n",
       "      <td>6</td>\n",
       "      <td>0</td>\n",
       "      <td>3</td>\n",
       "      <td>-22.0</td>\n",
       "      <td>[0, 0, 0, 1, 0, 0, 0]</td>\n",
       "      <td>-11.0</td>\n",
       "    </tr>\n",
       "    <tr>\n",
       "      <th>1</th>\n",
       "      <td>1</td>\n",
       "      <td>1</td>\n",
       "      <td>77</td>\n",
       "      <td>-9.0</td>\n",
       "      <td>[0, 0, 0, 1, 0, 0, 0]</td>\n",
       "      <td>-8.0</td>\n",
       "    </tr>\n",
       "    <tr>\n",
       "      <th>2</th>\n",
       "      <td>2</td>\n",
       "      <td>2</td>\n",
       "      <td>97</td>\n",
       "      <td>5.0</td>\n",
       "      <td>[0, 0, 0, 1, 0, 0, 0]</td>\n",
       "      <td>-2.0</td>\n",
       "    </tr>\n",
       "    <tr>\n",
       "      <th>3</th>\n",
       "      <td>1</td>\n",
       "      <td>1</td>\n",
       "      <td>84</td>\n",
       "      <td>-9.0</td>\n",
       "      <td>[0, 0, 0, 1, 0, 0, 0]</td>\n",
       "      <td>-5.0</td>\n",
       "    </tr>\n",
       "    <tr>\n",
       "      <th>4</th>\n",
       "      <td>6</td>\n",
       "      <td>3</td>\n",
       "      <td>0</td>\n",
       "      <td>-21.0</td>\n",
       "      <td>[0, 0, 0, 1, 0, 0, 0]</td>\n",
       "      <td>-1.0</td>\n",
       "    </tr>\n",
       "  </tbody>\n",
       "</table>\n",
       "</div>"
      ],
      "text/plain": [
       "   AIRLINE  ORGIN_AIRPORT_V  DESTINATION__AIRPORT_V  ARRIVAL_DELAY  \\\n",
       "0        6                0                       3          -22.0   \n",
       "1        1                1                      77           -9.0   \n",
       "2        2                2                      97            5.0   \n",
       "3        1                1                      84           -9.0   \n",
       "4        6                3                       0          -21.0   \n",
       "\n",
       "             DAY_OF_WEEK  DEPARTURE_DELAY  \n",
       "0  [0, 0, 0, 1, 0, 0, 0]            -11.0  \n",
       "1  [0, 0, 0, 1, 0, 0, 0]             -8.0  \n",
       "2  [0, 0, 0, 1, 0, 0, 0]             -2.0  \n",
       "3  [0, 0, 0, 1, 0, 0, 0]             -5.0  \n",
       "4  [0, 0, 0, 1, 0, 0, 0]             -1.0  "
      ]
     },
     "execution_count": 9,
     "metadata": {},
     "output_type": "execute_result"
    }
   ],
   "source": [
    "# PROCESSING THE CATEGORICAL DATA\n",
    "#___________________________________________________________________\n",
    "flights['AIRLINE'] = flights['AIRLINE'].apply(lambda x: airlines[x])\n",
    "flights['ORGIN_AIRPORT_V'] = flights['ORIGIN_AIRPORT'].apply(lambda x: airports[x])\n",
    "flights['DESTINATION__AIRPORT_V'] = flights['DESTINATION_AIRPORT'].apply(lambda x: airports[x])\n",
    "flights['DAY_OF_WEEK'] = flights['DAY_OF_WEEK'].apply(lambda x: one_hot_encode(7,x))\n",
    "flights = flights[['AIRLINE','ORGIN_AIRPORT_V',\"DESTINATION__AIRPORT_V\",'ARRIVAL_DELAY','DAY_OF_WEEK','DEPARTURE_DELAY']]\n",
    "flights.head()"
   ]
  },
  {
   "cell_type": "code",
   "execution_count": 10,
   "metadata": {},
   "outputs": [
    {
     "data": {
      "text/html": [
       "<div>\n",
       "<style scoped>\n",
       "    .dataframe tbody tr th:only-of-type {\n",
       "        vertical-align: middle;\n",
       "    }\n",
       "\n",
       "    .dataframe tbody tr th {\n",
       "        vertical-align: top;\n",
       "    }\n",
       "\n",
       "    .dataframe thead th {\n",
       "        text-align: right;\n",
       "    }\n",
       "</style>\n",
       "<table border=\"1\" class=\"dataframe\">\n",
       "  <thead>\n",
       "    <tr style=\"text-align: right;\">\n",
       "      <th></th>\n",
       "      <th>AIRLINE</th>\n",
       "      <th>ORGIN_AIRPORT_V</th>\n",
       "      <th>DESTINATION__AIRPORT_V</th>\n",
       "      <th>ARRIVAL_DELAY</th>\n",
       "      <th>DAY_OF_WEEK</th>\n",
       "      <th>DEPARTURE_DELAY</th>\n",
       "    </tr>\n",
       "  </thead>\n",
       "  <tbody>\n",
       "    <tr>\n",
       "      <th>0</th>\n",
       "      <td>6</td>\n",
       "      <td>0</td>\n",
       "      <td>3</td>\n",
       "      <td>-22.0</td>\n",
       "      <td>[0, 0, 0, 1, 0, 0, 0]</td>\n",
       "      <td>-11.0</td>\n",
       "    </tr>\n",
       "    <tr>\n",
       "      <th>1</th>\n",
       "      <td>1</td>\n",
       "      <td>1</td>\n",
       "      <td>77</td>\n",
       "      <td>-9.0</td>\n",
       "      <td>[0, 0, 0, 1, 0, 0, 0]</td>\n",
       "      <td>-8.0</td>\n",
       "    </tr>\n",
       "    <tr>\n",
       "      <th>2</th>\n",
       "      <td>2</td>\n",
       "      <td>2</td>\n",
       "      <td>97</td>\n",
       "      <td>5.0</td>\n",
       "      <td>[0, 0, 0, 1, 0, 0, 0]</td>\n",
       "      <td>-2.0</td>\n",
       "    </tr>\n",
       "    <tr>\n",
       "      <th>3</th>\n",
       "      <td>1</td>\n",
       "      <td>1</td>\n",
       "      <td>84</td>\n",
       "      <td>-9.0</td>\n",
       "      <td>[0, 0, 0, 1, 0, 0, 0]</td>\n",
       "      <td>-5.0</td>\n",
       "    </tr>\n",
       "    <tr>\n",
       "      <th>4</th>\n",
       "      <td>6</td>\n",
       "      <td>3</td>\n",
       "      <td>0</td>\n",
       "      <td>-21.0</td>\n",
       "      <td>[0, 0, 0, 1, 0, 0, 0]</td>\n",
       "      <td>-1.0</td>\n",
       "    </tr>\n",
       "  </tbody>\n",
       "</table>\n",
       "</div>"
      ],
      "text/plain": [
       "   AIRLINE  ORGIN_AIRPORT_V  DESTINATION__AIRPORT_V  ARRIVAL_DELAY  \\\n",
       "0        6                0                       3          -22.0   \n",
       "1        1                1                      77           -9.0   \n",
       "2        2                2                      97            5.0   \n",
       "3        1                1                      84           -9.0   \n",
       "4        6                3                       0          -21.0   \n",
       "\n",
       "             DAY_OF_WEEK  DEPARTURE_DELAY  \n",
       "0  [0, 0, 0, 1, 0, 0, 0]            -11.0  \n",
       "1  [0, 0, 0, 1, 0, 0, 0]             -8.0  \n",
       "2  [0, 0, 0, 1, 0, 0, 0]             -2.0  \n",
       "3  [0, 0, 0, 1, 0, 0, 0]             -5.0  \n",
       "4  [0, 0, 0, 1, 0, 0, 0]             -1.0  "
      ]
     },
     "execution_count": 10,
     "metadata": {},
     "output_type": "execute_result"
    }
   ],
   "source": [
    "# CLEAN UP\n",
    "#______________________________\n",
    "flights.dropna(inplace =True)\n",
    "flights = flights.reset_index()\n",
    "flights = flights[['AIRLINE','ORGIN_AIRPORT_V',\"DESTINATION__AIRPORT_V\",'ARRIVAL_DELAY','DAY_OF_WEEK','DEPARTURE_DELAY']]\n",
    "flights.head()"
   ]
  },
  {
   "cell_type": "code",
   "execution_count": 12,
   "metadata": {},
   "outputs": [],
   "source": [
    "# MAKING THE SEQUENCES OF INPUT DATA\n",
    "#________________________________________________________________\n",
    "spequence_length = 10000\n",
    "output_length = 10\n",
    "start = 0\n",
    "data_batch = {}\n",
    "decoder_input ={}\n",
    "labels = {}\n",
    "for i,x in enumerate(range(0,len(flights),spequence_length)):\n",
    "#     print('id_{}:{}'.format(i,x))\n",
    "#     y = x+spequence_length\n",
    "    data_batch['id_{}'.format(i)] = [i for i in range(start,x)]\n",
    "    air = flights.loc[x:x+output_length-1,'AIRLINE']\n",
    "    f = flights.loc[x:x+output_length-1,'DEPARTURE_DELAY']\n",
    "    decoder_input['id_{}'.format(i)] = air.to_list()\n",
    "    labels['id_{}'.format(i)] = f.to_list()\n",
    "    start = x"
   ]
  },
  {
   "cell_type": "code",
   "execution_count": 13,
   "metadata": {},
   "outputs": [
    {
     "data": {
      "text/plain": [
       "10"
      ]
     },
     "execution_count": 13,
     "metadata": {},
     "output_type": "execute_result"
    }
   ],
   "source": [
    "len(labels['id_0'])"
   ]
  },
  {
   "cell_type": "code",
   "execution_count": 14,
   "metadata": {},
   "outputs": [
    {
     "data": {
      "text/plain": [
       "[6, 1, 2, 1, 6, 9, 7, 2, 1, 9]"
      ]
     },
     "execution_count": 14,
     "metadata": {},
     "output_type": "execute_result"
    }
   ],
   "source": [
    "decoder_input['id_0']"
   ]
  },
  {
   "cell_type": "code",
   "execution_count": 15,
   "metadata": {},
   "outputs": [
    {
     "data": {
      "text/plain": [
       "dict_keys(['id_0', 'id_1', 'id_2', 'id_3', 'id_4', 'id_5', 'id_6', 'id_7', 'id_8', 'id_9', 'id_10', 'id_11', 'id_12', 'id_13', 'id_14', 'id_15', 'id_16', 'id_17', 'id_18', 'id_19', 'id_20', 'id_21', 'id_22', 'id_23', 'id_24', 'id_25', 'id_26', 'id_27', 'id_28', 'id_29', 'id_30', 'id_31', 'id_32', 'id_33', 'id_34', 'id_35', 'id_36', 'id_37', 'id_38', 'id_39', 'id_40', 'id_41', 'id_42', 'id_43', 'id_44', 'id_45', 'id_46', 'id_47', 'id_48', 'id_49', 'id_50', 'id_51', 'id_52', 'id_53', 'id_54', 'id_55', 'id_56', 'id_57', 'id_58', 'id_59', 'id_60', 'id_61', 'id_62', 'id_63', 'id_64', 'id_65', 'id_66', 'id_67', 'id_68', 'id_69', 'id_70', 'id_71', 'id_72', 'id_73', 'id_74', 'id_75', 'id_76', 'id_77', 'id_78', 'id_79', 'id_80', 'id_81', 'id_82', 'id_83', 'id_84', 'id_85', 'id_86', 'id_87', 'id_88', 'id_89', 'id_90', 'id_91', 'id_92', 'id_93', 'id_94', 'id_95', 'id_96', 'id_97', 'id_98', 'id_99', 'id_100', 'id_101', 'id_102', 'id_103', 'id_104', 'id_105', 'id_106', 'id_107', 'id_108', 'id_109', 'id_110', 'id_111', 'id_112', 'id_113', 'id_114', 'id_115', 'id_116', 'id_117', 'id_118', 'id_119', 'id_120', 'id_121', 'id_122', 'id_123', 'id_124', 'id_125', 'id_126', 'id_127', 'id_128', 'id_129', 'id_130', 'id_131', 'id_132', 'id_133', 'id_134', 'id_135', 'id_136', 'id_137', 'id_138', 'id_139', 'id_140', 'id_141', 'id_142', 'id_143', 'id_144', 'id_145', 'id_146', 'id_147', 'id_148', 'id_149', 'id_150', 'id_151', 'id_152', 'id_153', 'id_154', 'id_155', 'id_156', 'id_157', 'id_158', 'id_159', 'id_160', 'id_161', 'id_162', 'id_163', 'id_164', 'id_165', 'id_166', 'id_167', 'id_168', 'id_169', 'id_170', 'id_171', 'id_172', 'id_173', 'id_174', 'id_175', 'id_176', 'id_177', 'id_178', 'id_179', 'id_180', 'id_181', 'id_182', 'id_183', 'id_184', 'id_185', 'id_186', 'id_187', 'id_188', 'id_189', 'id_190', 'id_191', 'id_192', 'id_193', 'id_194', 'id_195', 'id_196', 'id_197', 'id_198', 'id_199', 'id_200', 'id_201', 'id_202', 'id_203', 'id_204', 'id_205', 'id_206', 'id_207', 'id_208', 'id_209', 'id_210', 'id_211', 'id_212', 'id_213', 'id_214', 'id_215', 'id_216', 'id_217', 'id_218', 'id_219', 'id_220', 'id_221', 'id_222', 'id_223', 'id_224', 'id_225', 'id_226', 'id_227', 'id_228', 'id_229', 'id_230', 'id_231', 'id_232', 'id_233', 'id_234', 'id_235', 'id_236', 'id_237', 'id_238', 'id_239', 'id_240', 'id_241', 'id_242', 'id_243', 'id_244', 'id_245', 'id_246', 'id_247', 'id_248', 'id_249', 'id_250', 'id_251', 'id_252', 'id_253', 'id_254', 'id_255', 'id_256', 'id_257', 'id_258', 'id_259', 'id_260', 'id_261', 'id_262', 'id_263', 'id_264', 'id_265', 'id_266', 'id_267', 'id_268', 'id_269', 'id_270', 'id_271', 'id_272', 'id_273', 'id_274', 'id_275', 'id_276', 'id_277', 'id_278', 'id_279', 'id_280', 'id_281', 'id_282', 'id_283', 'id_284', 'id_285', 'id_286', 'id_287', 'id_288', 'id_289', 'id_290', 'id_291', 'id_292', 'id_293', 'id_294', 'id_295', 'id_296', 'id_297', 'id_298', 'id_299', 'id_300', 'id_301', 'id_302', 'id_303', 'id_304', 'id_305', 'id_306', 'id_307', 'id_308', 'id_309', 'id_310', 'id_311', 'id_312', 'id_313', 'id_314', 'id_315', 'id_316', 'id_317', 'id_318', 'id_319', 'id_320', 'id_321', 'id_322', 'id_323', 'id_324', 'id_325', 'id_326', 'id_327', 'id_328', 'id_329', 'id_330', 'id_331', 'id_332', 'id_333', 'id_334', 'id_335', 'id_336', 'id_337', 'id_338', 'id_339', 'id_340', 'id_341', 'id_342', 'id_343', 'id_344', 'id_345', 'id_346', 'id_347', 'id_348', 'id_349', 'id_350', 'id_351', 'id_352', 'id_353', 'id_354', 'id_355', 'id_356', 'id_357', 'id_358', 'id_359', 'id_360', 'id_361', 'id_362', 'id_363', 'id_364', 'id_365', 'id_366', 'id_367', 'id_368', 'id_369', 'id_370', 'id_371', 'id_372', 'id_373', 'id_374', 'id_375', 'id_376', 'id_377', 'id_378', 'id_379', 'id_380', 'id_381', 'id_382', 'id_383', 'id_384', 'id_385', 'id_386', 'id_387', 'id_388', 'id_389', 'id_390', 'id_391', 'id_392', 'id_393', 'id_394', 'id_395', 'id_396', 'id_397', 'id_398', 'id_399', 'id_400', 'id_401', 'id_402', 'id_403', 'id_404', 'id_405', 'id_406', 'id_407', 'id_408', 'id_409', 'id_410', 'id_411', 'id_412', 'id_413', 'id_414', 'id_415', 'id_416', 'id_417', 'id_418', 'id_419', 'id_420', 'id_421', 'id_422', 'id_423', 'id_424', 'id_425', 'id_426', 'id_427', 'id_428', 'id_429', 'id_430', 'id_431', 'id_432', 'id_433', 'id_434', 'id_435', 'id_436', 'id_437', 'id_438', 'id_439', 'id_440', 'id_441', 'id_442', 'id_443', 'id_444', 'id_445', 'id_446', 'id_447', 'id_448', 'id_449', 'id_450', 'id_451', 'id_452', 'id_453', 'id_454', 'id_455', 'id_456', 'id_457', 'id_458', 'id_459', 'id_460', 'id_461', 'id_462', 'id_463', 'id_464', 'id_465', 'id_466', 'id_467', 'id_468', 'id_469', 'id_470', 'id_471', 'id_472', 'id_473', 'id_474', 'id_475', 'id_476', 'id_477', 'id_478', 'id_479', 'id_480', 'id_481', 'id_482', 'id_483', 'id_484', 'id_485', 'id_486', 'id_487', 'id_488', 'id_489', 'id_490', 'id_491', 'id_492', 'id_493', 'id_494', 'id_495', 'id_496', 'id_497', 'id_498', 'id_499', 'id_500', 'id_501', 'id_502', 'id_503', 'id_504', 'id_505', 'id_506', 'id_507', 'id_508', 'id_509', 'id_510', 'id_511', 'id_512', 'id_513', 'id_514', 'id_515', 'id_516', 'id_517', 'id_518', 'id_519', 'id_520', 'id_521', 'id_522', 'id_523', 'id_524', 'id_525', 'id_526', 'id_527', 'id_528', 'id_529', 'id_530', 'id_531', 'id_532', 'id_533', 'id_534', 'id_535', 'id_536', 'id_537', 'id_538', 'id_539', 'id_540', 'id_541', 'id_542', 'id_543', 'id_544', 'id_545', 'id_546', 'id_547', 'id_548', 'id_549', 'id_550', 'id_551', 'id_552', 'id_553', 'id_554', 'id_555', 'id_556', 'id_557', 'id_558', 'id_559', 'id_560', 'id_561', 'id_562', 'id_563', 'id_564', 'id_565', 'id_566', 'id_567', 'id_568', 'id_569', 'id_570', 'id_571'])"
      ]
     },
     "execution_count": 15,
     "metadata": {},
     "output_type": "execute_result"
    }
   ],
   "source": [
    "labels.keys()"
   ]
  },
  {
   "cell_type": "code",
   "execution_count": 16,
   "metadata": {},
   "outputs": [
    {
     "data": {
      "text/plain": [
       "[-5.0, -2.0, 1.0, -5.0, -3.0, -9.0, -8.0, -2.0, 11.0, -2.0]"
      ]
     },
     "execution_count": 16,
     "metadata": {},
     "output_type": "execute_result"
    }
   ],
   "source": [
    "labels['id_81']"
   ]
  },
  {
   "cell_type": "code",
   "execution_count": 17,
   "metadata": {},
   "outputs": [],
   "source": [
    "# DATA GENERATOR CLASS FOR EASY ACCESS AND PARALLELIZATION\n",
    "#___________________________________________________________\n",
    "class DataGen(data.Dataset):\n",
    "    def __init__(self,list_id,labels):\n",
    "        self.list_id = list_id\n",
    "        self.labels = labels\n",
    "    def __len__(self):\n",
    "        return len(self.list_id)\n",
    "    def __getitem__(self,index):\n",
    "        ID = self.list_id[index]\n",
    "        ind = data_batch[ID]\n",
    "        X = flights.loc[ind,:'DAY_OF_WEEK']\n",
    "        d_inp = torch.tensor(decoder_input[ID],dtype=torch.long)\n",
    "        y = torch.tensor(labels[ID],dtype=torch.float)\n",
    "        return d_inp,y,{'DAY_OF_WEEK':torch.tensor(X.DAY_OF_WEEK.to_list(),dtype=torch.float),\n",
    "                  'ARRIVAL_DELAY':torch.tensor(X.ARRIVAL_DELAY.to_list(),dtype=torch.float),\n",
    "                  'AIRLINE': torch.tensor(X.AIRLINE.to_list(),dtype=torch.long),\n",
    "                  'ORGIN_AIRPORT_V': torch.tensor(X.ORGIN_AIRPORT_V.to_list(),dtype=torch.long),\n",
    "                  'DESTINATION__AIRPORT_V': torch.tensor(X.DESTINATION__AIRPORT_V.to_list(),dtype=torch.long)}"
   ]
  },
  {
   "cell_type": "code",
   "execution_count": 18,
   "metadata": {},
   "outputs": [],
   "source": [
    "# PARAMETER FOR THE GENERATOR\n",
    "#_____________________________\n",
    "params = {'batch_size': 2,\n",
    "          'shuffle': False,\n",
    "          'num_workers': 6}"
   ]
  },
  {
   "cell_type": "code",
   "execution_count": 19,
   "metadata": {},
   "outputs": [],
   "source": [
    "# SPLITING UP THE DATA INTO TRAINING AND VALIDATION\n",
    "#_____________________________________________________\n",
    "seed(1234)\n",
    "length = int(len(data_batch.keys())*0.75)\n",
    "training_ids = sample(list(data_batch.keys()),length)\n",
    "validation_ids = []\n",
    "for i in list(data_batch.keys()):\n",
    "    if i not in training_ids:\n",
    "        validation_ids.append(i)"
   ]
  },
  {
   "cell_type": "code",
   "execution_count": 20,
   "metadata": {},
   "outputs": [],
   "source": [
    "#CREATING DATALOADERS\n",
    "#_______________________________________________________________\n",
    "training_set = DataGen(training_ids, labels)\n",
    "training_generator = data.DataLoader(training_set, **params)\n",
    "validation_set = DataGen(validation_ids, labels)\n",
    "validation_generator = data.DataLoader(validation_set, **params)"
   ]
  },
  {
   "cell_type": "code",
   "execution_count": 21,
   "metadata": {},
   "outputs": [],
   "source": [
    "d_inp,y,x = next(iter(training_generator))# training_set.__getitem__(0)"
   ]
  },
  {
   "cell_type": "code",
   "execution_count": 22,
   "metadata": {},
   "outputs": [
    {
     "data": {
      "text/plain": [
       "{'DAY_OF_WEEK': tensor([[[0., 1., 0.,  ..., 0., 0., 0.],\n",
       "          [0., 1., 0.,  ..., 0., 0., 0.],\n",
       "          [0., 1., 0.,  ..., 0., 0., 0.],\n",
       "          ...,\n",
       "          [0., 0., 1.,  ..., 0., 0., 0.],\n",
       "          [0., 0., 1.,  ..., 0., 0., 0.],\n",
       "          [0., 0., 1.,  ..., 0., 0., 0.]],\n",
       " \n",
       "         [[0., 0., 0.,  ..., 1., 0., 0.],\n",
       "          [0., 0., 0.,  ..., 1., 0., 0.],\n",
       "          [0., 0., 0.,  ..., 1., 0., 0.],\n",
       "          ...,\n",
       "          [0., 0., 0.,  ..., 0., 1., 0.],\n",
       "          [0., 0., 0.,  ..., 0., 1., 0.],\n",
       "          [0., 0., 0.,  ..., 0., 1., 0.]]]),\n",
       " 'ARRIVAL_DELAY': tensor([[ -9., -16.,  14.,  ..., -21.,  -3.,  32.],\n",
       "         [ 23., -12., -17.,  ..., -10.,   2.,  -1.]]),\n",
       " 'AIRLINE': tensor([[10, 10, 10,  ...,  1,  6,  6],\n",
       "         [ 5,  7,  0,  ...,  8,  8,  8]]),\n",
       " 'ORGIN_AIRPORT_V': tensor([[340, 434, 419,  ..., 366, 327, 322],\n",
       "         [  1,   4, 161,  ...,   5, 155, 155]]),\n",
       " 'DESTINATION__AIRPORT_V': tensor([[461, 429, 354,  ..., 492, 380, 352],\n",
       "         [ 10,  59,  38,  ...,   4,   1, 161]])}"
      ]
     },
     "execution_count": 22,
     "metadata": {},
     "output_type": "execute_result"
    }
   ],
   "source": [
    "# REQUIRED RESAHPE FOR CONCATINATE\n",
    "# x['ARRIVAL_DELAY'] = x['ARRIVAL_DELAY'].reshape(params['batch_size'],spequence_length,1)\n",
    "x"
   ]
  },
  {
   "cell_type": "code",
   "execution_count": 23,
   "metadata": {},
   "outputs": [
    {
     "data": {
      "text/plain": [
       "torch.Size([2, 10])"
      ]
     },
     "execution_count": 23,
     "metadata": {},
     "output_type": "execute_result"
    }
   ],
   "source": [
    "y.shape"
   ]
  },
  {
   "cell_type": "code",
   "execution_count": 26,
   "metadata": {},
   "outputs": [
    {
     "data": {
      "text/plain": [
       "torch.Size([2, 10])"
      ]
     },
     "execution_count": 26,
     "metadata": {},
     "output_type": "execute_result"
    }
   ],
   "source": [
    "d_inp.shape"
   ]
  },
  {
   "cell_type": "code",
   "execution_count": 27,
   "metadata": {},
   "outputs": [],
   "source": [
    "embeds = nn.Embedding(len(airlines),4)"
   ]
  },
  {
   "cell_type": "code",
   "execution_count": 28,
   "metadata": {},
   "outputs": [
    {
     "data": {
      "text/plain": [
       "torch.Size([2, 10000, 4])"
      ]
     },
     "execution_count": 28,
     "metadata": {},
     "output_type": "execute_result"
    }
   ],
   "source": [
    "embeds(x['AIRLINE']).shape"
   ]
  },
  {
   "cell_type": "markdown",
   "metadata": {},
   "source": [
    "# MODEL DEFINITION"
   ]
  },
  {
   "cell_type": "code",
   "execution_count": 50,
   "metadata": {},
   "outputs": [],
   "source": [
    "# MODEL DEFINITION\n",
    "#_________________\n",
    "class model(nn.Module):\n",
    "    \n",
    "    def __init__(self,airline_embed_size,airport_embed_size,hidden_size,no_of_layers=2,dropout=0.25,linear_size=512):\n",
    "        super(model,self).__init__()\n",
    "        \n",
    "        # DEFINING THE VARIABLES AND PARAMETERS\n",
    "        self.airline_embed_size = airline_embed_size\n",
    "        self.airport_embed_size = airport_embed_size\n",
    "        self.hidden_size = hidden_size\n",
    "        self.no_of_layers =no_of_layers\n",
    "        \n",
    "        # MODEL ELEMENTS\n",
    "        self.airline_embed = nn.Embedding(len(airlines),airline_embed_size)\n",
    "        self.airport_embed = nn.Embedding(len(airports),airport_embed_size) \n",
    "        self.lstm_encoder = nn.LSTM((airline_embed_size+airport_embed_size+7),hidden_size,no_of_layers,dropout=dropout,batch_first=True)\n",
    "        self.lstm_decoder = nn.LSTM(airline_embed_size,hidden_size,no_of_layers,dropout=dropout,batch_first=True)\n",
    "        self.linear_1 = nn.Linear(hidden_size,linear_size)\n",
    "        self.linear_2 = nn.Linear(linear_size,linear_size)\n",
    "        self.out = nn.Linear(linear_size,1)\n",
    "        self.drop = nn.Dropout(p=dropout)\n",
    "        \n",
    "    def forward(self,x,hidden,decode):\n",
    "        input_ =torch.cat((x['DAY_OF_WEEK'],self.airline_embed(x['AIRLINE']),(self.airport_embed(x['DESTINATION__AIRPORT_V'])-self.airport_embed(x['ORGIN_AIRPORT_V']))),2)\n",
    "        # CONCATINATED DAY OF THE WEEK, DELAY, AIRLINE AND DESTINATION-ORIGIN(GRAPH REP)\n",
    "        decode = self.airline_embed(decode)\n",
    "        o, hidden = self.lstm_encoder(x,hidden)\n",
    "        out,hidden = self.lstm_decoder(decode,hidden)\n",
    "        return out, hidden\n",
    "    def init_hidden(self,batch_size):\n",
    "        weight = next(self.parameters()).data\n",
    "        return (weight.new(self.no_of_layers,batch_size,self.hidden_size).zero_(),\n",
    "               weight.new(self.no_of_layers,batch_size,self.hidden_size).zero_())"
   ]
  },
  {
   "cell_type": "code",
   "execution_count": 51,
   "metadata": {},
   "outputs": [],
   "source": [
    "test = model(4,300,256)"
   ]
  },
  {
   "cell_type": "code",
   "execution_count": 52,
   "metadata": {},
   "outputs": [
    {
     "data": {
      "text/plain": [
       "model(\n",
       "  (airline_embed): Embedding(14, 4)\n",
       "  (airport_embed): Embedding(629, 300)\n",
       "  (lstm_encoder): LSTM(311, 256, num_layers=2, batch_first=True, dropout=0.25)\n",
       "  (lstm_decoder): LSTM(4, 256, num_layers=2, batch_first=True, dropout=0.25)\n",
       "  (linear_1): Linear(in_features=256, out_features=512, bias=True)\n",
       "  (linear_2): Linear(in_features=512, out_features=512, bias=True)\n",
       "  (out): Linear(in_features=512, out_features=1, bias=True)\n",
       "  (drop): Dropout(p=0.25, inplace=False)\n",
       ")"
      ]
     },
     "execution_count": 52,
     "metadata": {},
     "output_type": "execute_result"
    }
   ],
   "source": [
    "test"
   ]
  },
  {
   "cell_type": "code",
   "execution_count": 53,
   "metadata": {},
   "outputs": [
    {
     "ename": "AttributeError",
     "evalue": "'dict' object has no attribute 'size'",
     "output_type": "error",
     "traceback": [
      "\u001b[0;31m---------------------------------------------------------------------------\u001b[0m",
      "\u001b[0;31mAttributeError\u001b[0m                            Traceback (most recent call last)",
      "\u001b[0;32m<ipython-input-53-5b7990bec3b0>\u001b[0m in \u001b[0;36m<module>\u001b[0;34m\u001b[0m\n\u001b[1;32m      1\u001b[0m \u001b[0mh\u001b[0m \u001b[0;34m=\u001b[0m \u001b[0mtest\u001b[0m\u001b[0;34m.\u001b[0m\u001b[0minit_hidden\u001b[0m\u001b[0;34m(\u001b[0m\u001b[0;36m2\u001b[0m\u001b[0;34m)\u001b[0m\u001b[0;34m\u001b[0m\u001b[0;34m\u001b[0m\u001b[0m\n\u001b[0;32m----> 2\u001b[0;31m \u001b[0my\u001b[0m\u001b[0;34m,\u001b[0m\u001b[0mh\u001b[0m \u001b[0;34m=\u001b[0m \u001b[0mtest\u001b[0m\u001b[0;34m(\u001b[0m\u001b[0mx\u001b[0m\u001b[0;34m,\u001b[0m\u001b[0mh\u001b[0m\u001b[0;34m,\u001b[0m\u001b[0md_inp\u001b[0m\u001b[0;34m)\u001b[0m\u001b[0;34m\u001b[0m\u001b[0;34m\u001b[0m\u001b[0m\n\u001b[0m",
      "\u001b[0;32m~/anaconda3/envs/deep/lib/python3.6/site-packages/torch/nn/modules/module.py\u001b[0m in \u001b[0;36m__call__\u001b[0;34m(self, *input, **kwargs)\u001b[0m\n\u001b[1;32m    530\u001b[0m             \u001b[0mresult\u001b[0m \u001b[0;34m=\u001b[0m \u001b[0mself\u001b[0m\u001b[0;34m.\u001b[0m\u001b[0m_slow_forward\u001b[0m\u001b[0;34m(\u001b[0m\u001b[0;34m*\u001b[0m\u001b[0minput\u001b[0m\u001b[0;34m,\u001b[0m \u001b[0;34m**\u001b[0m\u001b[0mkwargs\u001b[0m\u001b[0;34m)\u001b[0m\u001b[0;34m\u001b[0m\u001b[0;34m\u001b[0m\u001b[0m\n\u001b[1;32m    531\u001b[0m         \u001b[0;32melse\u001b[0m\u001b[0;34m:\u001b[0m\u001b[0;34m\u001b[0m\u001b[0;34m\u001b[0m\u001b[0m\n\u001b[0;32m--> 532\u001b[0;31m             \u001b[0mresult\u001b[0m \u001b[0;34m=\u001b[0m \u001b[0mself\u001b[0m\u001b[0;34m.\u001b[0m\u001b[0mforward\u001b[0m\u001b[0;34m(\u001b[0m\u001b[0;34m*\u001b[0m\u001b[0minput\u001b[0m\u001b[0;34m,\u001b[0m \u001b[0;34m**\u001b[0m\u001b[0mkwargs\u001b[0m\u001b[0;34m)\u001b[0m\u001b[0;34m\u001b[0m\u001b[0;34m\u001b[0m\u001b[0m\n\u001b[0m\u001b[1;32m    533\u001b[0m         \u001b[0;32mfor\u001b[0m \u001b[0mhook\u001b[0m \u001b[0;32min\u001b[0m \u001b[0mself\u001b[0m\u001b[0;34m.\u001b[0m\u001b[0m_forward_hooks\u001b[0m\u001b[0;34m.\u001b[0m\u001b[0mvalues\u001b[0m\u001b[0;34m(\u001b[0m\u001b[0;34m)\u001b[0m\u001b[0;34m:\u001b[0m\u001b[0;34m\u001b[0m\u001b[0;34m\u001b[0m\u001b[0m\n\u001b[1;32m    534\u001b[0m             \u001b[0mhook_result\u001b[0m \u001b[0;34m=\u001b[0m \u001b[0mhook\u001b[0m\u001b[0;34m(\u001b[0m\u001b[0mself\u001b[0m\u001b[0;34m,\u001b[0m \u001b[0minput\u001b[0m\u001b[0;34m,\u001b[0m \u001b[0mresult\u001b[0m\u001b[0;34m)\u001b[0m\u001b[0;34m\u001b[0m\u001b[0;34m\u001b[0m\u001b[0m\n",
      "\u001b[0;32m<ipython-input-50-c10da7ee0200>\u001b[0m in \u001b[0;36mforward\u001b[0;34m(self, x, hidden, decode)\u001b[0m\n\u001b[1;32m     26\u001b[0m         \u001b[0;31m# CONCATINATED DAY OF THE WEEK, DELAY, AIRLINE AND DESTINATION-ORIGIN(GRAPH REP)\u001b[0m\u001b[0;34m\u001b[0m\u001b[0;34m\u001b[0m\u001b[0;34m\u001b[0m\u001b[0m\n\u001b[1;32m     27\u001b[0m         \u001b[0mdecode\u001b[0m \u001b[0;34m=\u001b[0m \u001b[0mself\u001b[0m\u001b[0;34m.\u001b[0m\u001b[0mairline_embed\u001b[0m\u001b[0;34m(\u001b[0m\u001b[0mdecode\u001b[0m\u001b[0;34m)\u001b[0m\u001b[0;34m\u001b[0m\u001b[0;34m\u001b[0m\u001b[0m\n\u001b[0;32m---> 28\u001b[0;31m         \u001b[0mo\u001b[0m\u001b[0;34m,\u001b[0m \u001b[0mhidden\u001b[0m \u001b[0;34m=\u001b[0m \u001b[0mself\u001b[0m\u001b[0;34m.\u001b[0m\u001b[0mlstm_encoder\u001b[0m\u001b[0;34m(\u001b[0m\u001b[0mx\u001b[0m\u001b[0;34m,\u001b[0m\u001b[0mhidden\u001b[0m\u001b[0;34m)\u001b[0m\u001b[0;34m\u001b[0m\u001b[0;34m\u001b[0m\u001b[0m\n\u001b[0m\u001b[1;32m     29\u001b[0m         \u001b[0mout\u001b[0m\u001b[0;34m,\u001b[0m\u001b[0mhidden\u001b[0m \u001b[0;34m=\u001b[0m \u001b[0mself\u001b[0m\u001b[0;34m.\u001b[0m\u001b[0mlstm_decoder\u001b[0m\u001b[0;34m(\u001b[0m\u001b[0mdecode\u001b[0m\u001b[0;34m,\u001b[0m\u001b[0mhidden\u001b[0m\u001b[0;34m)\u001b[0m\u001b[0;34m\u001b[0m\u001b[0;34m\u001b[0m\u001b[0m\n\u001b[1;32m     30\u001b[0m         \u001b[0;32mreturn\u001b[0m \u001b[0mout\u001b[0m\u001b[0;34m,\u001b[0m \u001b[0mhidden\u001b[0m\u001b[0;34m\u001b[0m\u001b[0;34m\u001b[0m\u001b[0m\n",
      "\u001b[0;32m~/anaconda3/envs/deep/lib/python3.6/site-packages/torch/nn/modules/module.py\u001b[0m in \u001b[0;36m__call__\u001b[0;34m(self, *input, **kwargs)\u001b[0m\n\u001b[1;32m    530\u001b[0m             \u001b[0mresult\u001b[0m \u001b[0;34m=\u001b[0m \u001b[0mself\u001b[0m\u001b[0;34m.\u001b[0m\u001b[0m_slow_forward\u001b[0m\u001b[0;34m(\u001b[0m\u001b[0;34m*\u001b[0m\u001b[0minput\u001b[0m\u001b[0;34m,\u001b[0m \u001b[0;34m**\u001b[0m\u001b[0mkwargs\u001b[0m\u001b[0;34m)\u001b[0m\u001b[0;34m\u001b[0m\u001b[0;34m\u001b[0m\u001b[0m\n\u001b[1;32m    531\u001b[0m         \u001b[0;32melse\u001b[0m\u001b[0;34m:\u001b[0m\u001b[0;34m\u001b[0m\u001b[0;34m\u001b[0m\u001b[0m\n\u001b[0;32m--> 532\u001b[0;31m             \u001b[0mresult\u001b[0m \u001b[0;34m=\u001b[0m \u001b[0mself\u001b[0m\u001b[0;34m.\u001b[0m\u001b[0mforward\u001b[0m\u001b[0;34m(\u001b[0m\u001b[0;34m*\u001b[0m\u001b[0minput\u001b[0m\u001b[0;34m,\u001b[0m \u001b[0;34m**\u001b[0m\u001b[0mkwargs\u001b[0m\u001b[0;34m)\u001b[0m\u001b[0;34m\u001b[0m\u001b[0;34m\u001b[0m\u001b[0m\n\u001b[0m\u001b[1;32m    533\u001b[0m         \u001b[0;32mfor\u001b[0m \u001b[0mhook\u001b[0m \u001b[0;32min\u001b[0m \u001b[0mself\u001b[0m\u001b[0;34m.\u001b[0m\u001b[0m_forward_hooks\u001b[0m\u001b[0;34m.\u001b[0m\u001b[0mvalues\u001b[0m\u001b[0;34m(\u001b[0m\u001b[0;34m)\u001b[0m\u001b[0;34m:\u001b[0m\u001b[0;34m\u001b[0m\u001b[0;34m\u001b[0m\u001b[0m\n\u001b[1;32m    534\u001b[0m             \u001b[0mhook_result\u001b[0m \u001b[0;34m=\u001b[0m \u001b[0mhook\u001b[0m\u001b[0;34m(\u001b[0m\u001b[0mself\u001b[0m\u001b[0;34m,\u001b[0m \u001b[0minput\u001b[0m\u001b[0;34m,\u001b[0m \u001b[0mresult\u001b[0m\u001b[0;34m)\u001b[0m\u001b[0;34m\u001b[0m\u001b[0;34m\u001b[0m\u001b[0m\n",
      "\u001b[0;32m~/anaconda3/envs/deep/lib/python3.6/site-packages/torch/nn/modules/rnn.py\u001b[0m in \u001b[0;36mforward\u001b[0;34m(self, input, hx)\u001b[0m\n\u001b[1;32m    539\u001b[0m         \u001b[0;32melse\u001b[0m\u001b[0;34m:\u001b[0m\u001b[0;34m\u001b[0m\u001b[0;34m\u001b[0m\u001b[0m\n\u001b[1;32m    540\u001b[0m             \u001b[0mbatch_sizes\u001b[0m \u001b[0;34m=\u001b[0m \u001b[0;32mNone\u001b[0m\u001b[0;34m\u001b[0m\u001b[0;34m\u001b[0m\u001b[0m\n\u001b[0;32m--> 541\u001b[0;31m             \u001b[0mmax_batch_size\u001b[0m \u001b[0;34m=\u001b[0m \u001b[0minput\u001b[0m\u001b[0;34m.\u001b[0m\u001b[0msize\u001b[0m\u001b[0;34m(\u001b[0m\u001b[0;36m0\u001b[0m\u001b[0;34m)\u001b[0m \u001b[0;32mif\u001b[0m \u001b[0mself\u001b[0m\u001b[0;34m.\u001b[0m\u001b[0mbatch_first\u001b[0m \u001b[0;32melse\u001b[0m \u001b[0minput\u001b[0m\u001b[0;34m.\u001b[0m\u001b[0msize\u001b[0m\u001b[0;34m(\u001b[0m\u001b[0;36m1\u001b[0m\u001b[0;34m)\u001b[0m\u001b[0;34m\u001b[0m\u001b[0;34m\u001b[0m\u001b[0m\n\u001b[0m\u001b[1;32m    542\u001b[0m             \u001b[0msorted_indices\u001b[0m \u001b[0;34m=\u001b[0m \u001b[0;32mNone\u001b[0m\u001b[0;34m\u001b[0m\u001b[0;34m\u001b[0m\u001b[0m\n\u001b[1;32m    543\u001b[0m             \u001b[0munsorted_indices\u001b[0m \u001b[0;34m=\u001b[0m \u001b[0;32mNone\u001b[0m\u001b[0;34m\u001b[0m\u001b[0;34m\u001b[0m\u001b[0m\n",
      "\u001b[0;31mAttributeError\u001b[0m: 'dict' object has no attribute 'size'"
     ]
    }
   ],
   "source": [
    "h = test.init_hidden(2)\n",
    "y,h = test(x,h,d_inp)"
   ]
  },
  {
   "cell_type": "code",
   "execution_count": null,
   "metadata": {},
   "outputs": [],
   "source": []
  }
 ],
 "metadata": {
  "kernelspec": {
   "display_name": "Python 3",
   "language": "python",
   "name": "python3"
  },
  "language_info": {
   "codemirror_mode": {
    "name": "ipython",
    "version": 3
   },
   "file_extension": ".py",
   "mimetype": "text/x-python",
   "name": "python",
   "nbconvert_exporter": "python",
   "pygments_lexer": "ipython3",
   "version": "3.6.10"
  }
 },
 "nbformat": 4,
 "nbformat_minor": 2
}
