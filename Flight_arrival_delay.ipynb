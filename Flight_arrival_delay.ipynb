{
 "cells": [
  {
   "cell_type": "code",
   "execution_count": 1,
   "metadata": {},
   "outputs": [],
   "source": [
    "import numpy as np\n",
    "import pandas as pd\n",
    "import torch\n",
    "from torch import nn,optim\n",
    "import torch.nn.functional as F\n",
    "import datetime\n",
    "from torch.utils import data\n",
    "from random import sample,seed,shuffle\n"
   ]
  },
  {
   "cell_type": "code",
   "execution_count": 2,
   "metadata": {},
   "outputs": [],
   "source": [
    "flights = pd.read_csv(\"./lessThan1.csv\",low_memory=False)\n",
    "airlines = pd.read_csv(\"./data/airlines.csv\")\n",
    "airports = pd.read_csv(\"./data/airports.csv\")"
   ]
  },
  {
   "cell_type": "code",
   "execution_count": 3,
   "metadata": {},
   "outputs": [
    {
     "data": {
      "text/html": [
       "<div>\n",
       "<style scoped>\n",
       "    .dataframe tbody tr th:only-of-type {\n",
       "        vertical-align: middle;\n",
       "    }\n",
       "\n",
       "    .dataframe tbody tr th {\n",
       "        vertical-align: top;\n",
       "    }\n",
       "\n",
       "    .dataframe thead th {\n",
       "        text-align: right;\n",
       "    }\n",
       "</style>\n",
       "<table border=\"1\" class=\"dataframe\">\n",
       "  <thead>\n",
       "    <tr style=\"text-align: right;\">\n",
       "      <th></th>\n",
       "      <th>index</th>\n",
       "      <th>AIRLINE</th>\n",
       "      <th>TAIL_NUMBER</th>\n",
       "      <th>ORIGIN_AIRPORT_V</th>\n",
       "      <th>DESTINATION__AIRPORT_V</th>\n",
       "      <th>ARRIVAL_DELAY</th>\n",
       "      <th>DEPARTURE_DELAY</th>\n",
       "      <th>DAY</th>\n",
       "      <th>MONTH</th>\n",
       "      <th>SCHEDULED_ARRIVAL</th>\n",
       "    </tr>\n",
       "  </thead>\n",
       "  <tbody>\n",
       "    <tr>\n",
       "      <th>0</th>\n",
       "      <td>0</td>\n",
       "      <td>7</td>\n",
       "      <td>0</td>\n",
       "      <td>0</td>\n",
       "      <td>23</td>\n",
       "      <td>25</td>\n",
       "      <td>12</td>\n",
       "      <td>[1, 0, 0, 0, 0, 0, 0, 0, 0, 0, 0, 0, 0, 0, 0, ...</td>\n",
       "      <td>[1, 0, 0, 0, 0, 0, 0, 0, 0, 0, 0, 0]</td>\n",
       "      <td>542</td>\n",
       "    </tr>\n",
       "    <tr>\n",
       "      <th>1</th>\n",
       "      <td>1</td>\n",
       "      <td>7</td>\n",
       "      <td>1</td>\n",
       "      <td>1</td>\n",
       "      <td>15</td>\n",
       "      <td>43</td>\n",
       "      <td>72</td>\n",
       "      <td>[1, 0, 0, 0, 0, 0, 0, 0, 0, 0, 0, 0, 0, 0, 0, ...</td>\n",
       "      <td>[1, 0, 0, 0, 0, 0, 0, 0, 0, 0, 0, 0]</td>\n",
       "      <td>549</td>\n",
       "    </tr>\n",
       "    <tr>\n",
       "      <th>2</th>\n",
       "      <td>2</td>\n",
       "      <td>11</td>\n",
       "      <td>2</td>\n",
       "      <td>2</td>\n",
       "      <td>51</td>\n",
       "      <td>15</td>\n",
       "      <td>0</td>\n",
       "      <td>[1, 0, 0, 0, 0, 0, 0, 0, 0, 0, 0, 0, 0, 0, 0, ...</td>\n",
       "      <td>[1, 0, 0, 0, 0, 0, 0, 0, 0, 0, 0, 0]</td>\n",
       "      <td>555</td>\n",
       "    </tr>\n",
       "    <tr>\n",
       "      <th>3</th>\n",
       "      <td>3</td>\n",
       "      <td>4</td>\n",
       "      <td>3</td>\n",
       "      <td>3</td>\n",
       "      <td>42</td>\n",
       "      <td>20</td>\n",
       "      <td>-3</td>\n",
       "      <td>[1, 0, 0, 0, 0, 0, 0, 0, 0, 0, 0, 0, 0, 0, 0, ...</td>\n",
       "      <td>[1, 0, 0, 0, 0, 0, 0, 0, 0, 0, 0, 0]</td>\n",
       "      <td>500</td>\n",
       "    </tr>\n",
       "    <tr>\n",
       "      <th>4</th>\n",
       "      <td>4</td>\n",
       "      <td>2</td>\n",
       "      <td>4</td>\n",
       "      <td>4</td>\n",
       "      <td>1</td>\n",
       "      <td>60</td>\n",
       "      <td>60</td>\n",
       "      <td>[1, 0, 0, 0, 0, 0, 0, 0, 0, 0, 0, 0, 0, 0, 0, ...</td>\n",
       "      <td>[1, 0, 0, 0, 0, 0, 0, 0, 0, 0, 0, 0]</td>\n",
       "      <td>850</td>\n",
       "    </tr>\n",
       "  </tbody>\n",
       "</table>\n",
       "</div>"
      ],
      "text/plain": [
       "   index  AIRLINE  TAIL_NUMBER  ORIGIN_AIRPORT_V  DESTINATION__AIRPORT_V  \\\n",
       "0      0        7            0                 0                      23   \n",
       "1      1        7            1                 1                      15   \n",
       "2      2       11            2                 2                      51   \n",
       "3      3        4            3                 3                      42   \n",
       "4      4        2            4                 4                       1   \n",
       "\n",
       "   ARRIVAL_DELAY  DEPARTURE_DELAY  \\\n",
       "0             25               12   \n",
       "1             43               72   \n",
       "2             15                0   \n",
       "3             20               -3   \n",
       "4             60               60   \n",
       "\n",
       "                                                 DAY  \\\n",
       "0  [1, 0, 0, 0, 0, 0, 0, 0, 0, 0, 0, 0, 0, 0, 0, ...   \n",
       "1  [1, 0, 0, 0, 0, 0, 0, 0, 0, 0, 0, 0, 0, 0, 0, ...   \n",
       "2  [1, 0, 0, 0, 0, 0, 0, 0, 0, 0, 0, 0, 0, 0, 0, ...   \n",
       "3  [1, 0, 0, 0, 0, 0, 0, 0, 0, 0, 0, 0, 0, 0, 0, ...   \n",
       "4  [1, 0, 0, 0, 0, 0, 0, 0, 0, 0, 0, 0, 0, 0, 0, ...   \n",
       "\n",
       "                                  MONTH  SCHEDULED_ARRIVAL  \n",
       "0  [1, 0, 0, 0, 0, 0, 0, 0, 0, 0, 0, 0]                542  \n",
       "1  [1, 0, 0, 0, 0, 0, 0, 0, 0, 0, 0, 0]                549  \n",
       "2  [1, 0, 0, 0, 0, 0, 0, 0, 0, 0, 0, 0]                555  \n",
       "3  [1, 0, 0, 0, 0, 0, 0, 0, 0, 0, 0, 0]                500  \n",
       "4  [1, 0, 0, 0, 0, 0, 0, 0, 0, 0, 0, 0]                850  "
      ]
     },
     "execution_count": 3,
     "metadata": {},
     "output_type": "execute_result"
    }
   ],
   "source": [
    "a = flights.ORIGIN_AIRPORT.unique()\n",
    "for i in flights.DESTINATION_AIRPORT.unique():\n",
    "    if i not in a:\n",
    "        a = np.append(a,i)\n",
    "airports = {ch:i for i,ch in enumerate(a)}\n",
    "airlines = {ch:i for i,ch in enumerate(airlines.IATA_CODE)}\n",
    "tail_nums = {ch:i for i,ch in enumerate(flights.TAIL_NUMBER.unique())}\n",
    "airports['10268'] =len(airports)\n",
    "\n",
    "def one_hot_encode(size,val):\n",
    "    a = np.zeros((size,),dtype=int)\n",
    "    a[(val-1)] = 1\n",
    "    return a\n",
    "flights['DATE'] = pd.to_datetime(flights[['YEAR','MONTH', 'DAY']])\n",
    "variables_to_remove = ['TAXI_OUT', 'TAXI_IN', 'WHEELS_ON', 'WHEELS_OFF', 'YEAR', \n",
    "                       'DATE', 'AIR_SYSTEM_DELAY',\n",
    "                       'SECURITY_DELAY', 'AIRLINE_DELAY', 'LATE_AIRCRAFT_DELAY',\n",
    "                       'WEATHER_DELAY', 'DIVERTED', 'CANCELLED', 'CANCELLATION_REASON',\n",
    "                       'FLIGHT_NUMBER', 'AIR_TIME']\n",
    "flights.drop(variables_to_remove, axis = 1, inplace = True)\n",
    "flights = flights[['AIRLINE','TAIL_NUMBER','DAY', 'ORIGIN_AIRPORT', 'DESTINATION_AIRPORT',\n",
    "        'SCHEDULED_DEPARTURE', 'DEPARTURE_TIME', 'DEPARTURE_DELAY',\n",
    "        'SCHEDULED_ARRIVAL', 'ARRIVAL_TIME', 'ARRIVAL_DELAY',\n",
    "        'SCHEDULED_TIME', 'ELAPSED_TIME','MONTH']]\n",
    "flights['AIRLINE'] = flights['AIRLINE'].apply(lambda x: airlines[x])\n",
    "flights['ORIGIN_AIRPORT_V'] = flights['ORIGIN_AIRPORT'].apply(lambda x: airports[x])\n",
    "flights['DESTINATION__AIRPORT_V'] = flights['DESTINATION_AIRPORT'].apply(lambda x: airports[x])\n",
    "flights['TAIL_NUMBER'] = flights['TAIL_NUMBER'].apply(lambda x: tail_nums[x])\n",
    "# flights['DAY_OF_WEEK'] = flights['DAY_OF_WEEK'].apply(lambda x: one_hot_encode(7,x))\n",
    "flights['DAY'] = flights['DAY'].apply(lambda x: one_hot_encode(31,x))\n",
    "flights['MONTH'] = flights['MONTH'].apply(lambda x: one_hot_encode(12,x))\n",
    "flights = flights[['AIRLINE','TAIL_NUMBER','ORIGIN_AIRPORT_V',\"DESTINATION__AIRPORT_V\",'ARRIVAL_DELAY','DEPARTURE_DELAY','DAY','MONTH','SCHEDULED_ARRIVAL']]\n",
    "flights.dropna(inplace =True)\n",
    "flights = flights.reset_index()\n",
    "# flights = flights[['AIRLINE','ORGIN_AIRPORT_V',\"DESTINATION__AIRPORT_V\",'ARRIVAL_DELAY','DAY_OF_WEEK','DEPARTURE_DELAY','DAY','MONTH','SCHEDULED_ARRIVAL']]\n",
    "flights.head()"
   ]
  },
  {
   "cell_type": "code",
   "execution_count": 4,
   "metadata": {},
   "outputs": [
    {
     "data": {
      "text/plain": [
       "Index(['index', 'AIRLINE', 'TAIL_NUMBER', 'ORIGIN_AIRPORT_V',\n",
       "       'DESTINATION__AIRPORT_V', 'ARRIVAL_DELAY', 'DEPARTURE_DELAY', 'DAY',\n",
       "       'MONTH', 'SCHEDULED_ARRIVAL'],\n",
       "      dtype='object')"
      ]
     },
     "execution_count": 4,
     "metadata": {},
     "output_type": "execute_result"
    }
   ],
   "source": [
    "flights.columns"
   ]
  },
  {
   "cell_type": "code",
   "execution_count": 5,
   "metadata": {},
   "outputs": [],
   "source": [
    "# '10268' in flights.DESTINATION_AIRPORT.unique()"
   ]
  },
  {
   "cell_type": "code",
   "execution_count": 6,
   "metadata": {},
   "outputs": [],
   "source": [
    "# len(flights.DESTINATION_AIRPORT.unique())"
   ]
  },
  {
   "cell_type": "code",
   "execution_count": 7,
   "metadata": {},
   "outputs": [],
   "source": [
    "# a = flights.ORIGIN_AIRPORT.unique()\n",
    "# print(len(a))\n",
    "# for i in flights.DESTINATION_AIRPORT.unique():\n",
    "#     if i not in a:\n",
    "#         a = np.append(a,i)\n",
    "        \n",
    "# len(a)"
   ]
  },
  {
   "cell_type": "code",
   "execution_count": null,
   "metadata": {},
   "outputs": [],
   "source": []
  },
  {
   "cell_type": "code",
   "execution_count": 8,
   "metadata": {},
   "outputs": [],
   "source": [
    "class Generator(data.Dataset):\n",
    "    def __init__(self,indexes):\n",
    "        self.indexes = indexes\n",
    "    def __len__(self):\n",
    "        return len(self.indexes)\n",
    "    def __getitem__(self,index):\n",
    "        index = self.indexes[index]\n",
    "        y = flights['ARRIVAL_DELAY'][index]\n",
    "        y = torch.tensor(y,dtype=torch.float)\n",
    "#         avg_index = self.flights[(flights['AIRLINE'] == self.flights['AIRLINE'][index])&(flights['ORGIN_AIRPORT_V'] == self.flights['ORGIN_AIRPORT_V'][index])&(flights['DESTINATION__AIRPORT_V'] == self.flights['DESTINATION__AIRPORT_V'][index])]['ARRIVAL_DELAY'][:index].to_list()\n",
    "#         avg_index_index = sum(avg_index)/len(avg_index) if len(avg_index) > 0 else 0\n",
    "        x = {\n",
    "            'TAIL_NUMBER':torch.tensor(flights['TAIL_NUMBER'][index],dtype=torch.float),\n",
    "            'AIRLINE': torch.tensor(flights['AIRLINE'][index],dtype=torch.long),\n",
    "            'DAY': torch.tensor(flights['DAY'][index],dtype=torch.float),\n",
    "            'MONTH': torch.tensor(flights['MONTH'][index],dtype=torch.float),\n",
    "            'SCHEDULED_ARRIVAL': torch.tensor(flights['SCHEDULED_ARRIVAL'][index],dtype=torch.float),\n",
    "            'ORIGIN_AIRPORT': torch.tensor(flights['ORIGIN_AIRPORT_V'][index],dtype=torch.long),\n",
    "            'DESTINATION__AIRPORT': torch.tensor(flights['DESTINATION__AIRPORT_V'][index],dtype=torch.long),\n",
    "#             'AVERAGE_DELAY': torch.tensor(avg_index,dtype=torch.float)\n",
    "        }\n",
    "        return x,y"
   ]
  },
  {
   "cell_type": "code",
   "execution_count": 9,
   "metadata": {},
   "outputs": [
    {
     "data": {
      "text/plain": [
       "744347"
      ]
     },
     "execution_count": 9,
     "metadata": {},
     "output_type": "execute_result"
    }
   ],
   "source": [
    "len(flights)"
   ]
  },
  {
   "cell_type": "code",
   "execution_count": 10,
   "metadata": {},
   "outputs": [],
   "source": [
    "seed(1234)\n",
    "indexes = list(flights.index)\n",
    "shuffle(indexes)\n",
    "train_indexes = indexes[:600000]\n",
    "validation_indexes = indexes[600000:650000]\n",
    "test_indexes = indexes[650000:]\n",
    "# train_index = sample(indexes,round(len(indexes)*0.75))"
   ]
  },
  {
   "cell_type": "code",
   "execution_count": 11,
   "metadata": {},
   "outputs": [],
   "source": [
    "params = {'batch_size': 256,\n",
    "          'shuffle': False,\n",
    "          'num_workers': 6}"
   ]
  },
  {
   "cell_type": "code",
   "execution_count": 12,
   "metadata": {},
   "outputs": [],
   "source": [
    "# train = flights.loc[train_index,:]"
   ]
  },
  {
   "cell_type": "code",
   "execution_count": 13,
   "metadata": {},
   "outputs": [],
   "source": [
    "train_gen = Generator(train_indexes)\n",
    "train_loader = data.DataLoader(train_gen,**params)\n",
    "validatation_gen = Generator(validation_indexes)\n",
    "validatation_loader = data.DataLoader(validatation_gen,**params)"
   ]
  },
  {
   "cell_type": "code",
   "execution_count": 14,
   "metadata": {},
   "outputs": [
    {
     "data": {
      "text/plain": [
       "({'TAIL_NUMBER': tensor(457.),\n",
       "  'AIRLINE': tensor(3),\n",
       "  'DAY': tensor([0., 0., 0., 0., 0., 0., 0., 0., 0., 1., 0., 0., 0., 0., 0., 0., 0., 0.,\n",
       "          0., 0., 0., 0., 0., 0., 0., 0., 0., 0., 0., 0., 0.]),\n",
       "  'MONTH': tensor([0., 0., 0., 0., 1., 0., 0., 0., 0., 0., 0., 0.]),\n",
       "  'SCHEDULED_ARRIVAL': tensor(1830.),\n",
       "  'ORIGIN_AIRPORT': tensor(10),\n",
       "  'DESTINATION__AIRPORT': tensor(67)},\n",
       " tensor(16.))"
      ]
     },
     "execution_count": 14,
     "metadata": {},
     "output_type": "execute_result"
    }
   ],
   "source": [
    "train_gen.__getitem__(0)"
   ]
  },
  {
   "cell_type": "code",
   "execution_count": 15,
   "metadata": {},
   "outputs": [],
   "source": [
    "# train_gen.flights['ARRIVAL_DELAY'][0]"
   ]
  },
  {
   "cell_type": "code",
   "execution_count": 16,
   "metadata": {},
   "outputs": [
    {
     "data": {
      "text/plain": [
       "627"
      ]
     },
     "execution_count": 16,
     "metadata": {},
     "output_type": "execute_result"
    }
   ],
   "source": [
    "len(airports.keys())"
   ]
  },
  {
   "cell_type": "code",
   "execution_count": 17,
   "metadata": {},
   "outputs": [
    {
     "data": {
      "text/plain": [
       "625"
      ]
     },
     "execution_count": 17,
     "metadata": {},
     "output_type": "execute_result"
    }
   ],
   "source": [
    "flights.DESTINATION__AIRPORT_V.nunique()"
   ]
  },
  {
   "cell_type": "code",
   "execution_count": 18,
   "metadata": {},
   "outputs": [
    {
     "data": {
      "text/plain": [
       "Index(['index', 'AIRLINE', 'TAIL_NUMBER', 'ORIGIN_AIRPORT_V',\n",
       "       'DESTINATION__AIRPORT_V', 'ARRIVAL_DELAY', 'DEPARTURE_DELAY', 'DAY',\n",
       "       'MONTH', 'SCHEDULED_ARRIVAL'],\n",
       "      dtype='object')"
      ]
     },
     "execution_count": 18,
     "metadata": {},
     "output_type": "execute_result"
    }
   ],
   "source": [
    "flights.columns"
   ]
  },
  {
   "cell_type": "code",
   "execution_count": 19,
   "metadata": {},
   "outputs": [],
   "source": [
    "class Model(nn.Module):\n",
    "    def __init__(self,drop=0.25,airport_len=len(airports.keys())+1,airline_len=len(airlines.keys())):\n",
    "        super(Model,self).__init__()\n",
    "        self.input = 45+30+30+15#+1\n",
    "        self.drop_p = drop\n",
    "        self.airport = nn.Embedding(airport_len,30)\n",
    "        self.airline = nn.Embedding(airline_len,15)\n",
    "        self.layer1 = nn.Linear(self.input,1024)\n",
    "        self.layer2 = nn.Linear(1024,1024)\n",
    "        self.layer3 = nn.Linear(1024,1024)\n",
    "        self.layer4 = nn.Linear(1024,1)\n",
    "        self.dropout = nn.Dropout(p=drop)\n",
    "    \n",
    "    def forward(self,x):\n",
    "#         if torch.cuda.is_available():\n",
    "#             x['TAIL_NUMBER'] = x['TAIL_NUMBER'].cuda()\n",
    "#             x['AIRLINE'] = x['AIRLINE'].cuda()\n",
    "#             x['SCHEDULED_ARRIVAL'] = x['SCHEDULED_ARRIVAL'].cuda()\n",
    "#             x['ORGIN_AIRPORT'] = x['ORGIN_AIRPORT'].cuda()\n",
    "#             x['DESTINATION__AIRPORT'] = x['DESTINATION__AIRPORT'].cuda()\n",
    "#             x['DAY'] = x['DAY'].cuda()\n",
    "#             x['MONTH'] = x['MONTH'].cuda()\n",
    "        batch_size = x['DAY'].shape[0]\n",
    "        x['TAIL_NUMBER'] = x['TAIL_NUMBER'].reshape(batch_size,-1)\n",
    "#         x['AVERAGE_DELAY'] = x['AVERAGE_DELAY'].reshape(batch_size,-1)\n",
    "        x['AIRLINE'] = self.airline(x['AIRLINE']) \n",
    "        x['AIRLINE'] = x['AIRLINE'].reshape(batch_size,-1)\n",
    "        x['SCHEDULED_ARRIVAL'] = x['SCHEDULED_ARRIVAL'].reshape(batch_size,-1)\n",
    "        x['ORIGIN_AIRPORT'] = self.airport(x['ORIGIN_AIRPORT'])\n",
    "        x['DESTINATION__AIRPORT'] = self.airport(x['DESTINATION__AIRPORT'])\n",
    "        x['ORIGIN_AIRPORT'] = x['ORIGIN_AIRPORT'].reshape(batch_size,-1)\n",
    "        x['DESTINATION__AIRPORT'] = x['DESTINATION__AIRPORT'].reshape(batch_size,-1)\n",
    "        inp = torch.cat((x['DESTINATION__AIRPORT'],x['ORIGIN_AIRPORT'],x['SCHEDULED_ARRIVAL'],x['AIRLINE'],x['TAIL_NUMBER'],\n",
    "                        x['DAY'],x['MONTH']),dim=1)\n",
    "#         print(inp.shape)\n",
    "        out = self.layer1(inp)\n",
    "#         print(out.shape)\n",
    "        out = torch.relu(out)\n",
    "#         print(out.shape)\n",
    "        out = self.dropout(out)\n",
    "        out = self.layer2(out)\n",
    "        out = torch.relu(out)\n",
    "        out = self.dropout(out)\n",
    "#         out = F.dropout(F.relu(out),p=self.drop_p)\n",
    "        out = self.layer3(out)\n",
    "        out = torch.relu(out)\n",
    "        out = self.dropout(out)\n",
    "#         out = F.dropout(F.relu(out),p=self.drop_p)\n",
    "        out = self.layer4(out)\n",
    "        out = out.flatten()\n",
    "        return out"
   ]
  },
  {
   "cell_type": "code",
   "execution_count": 20,
   "metadata": {},
   "outputs": [],
   "source": [
    "model = Model()\n",
    "lr = 0.0001\n",
    "criterian = nn.SmoothL1Loss() \n",
    "optimizer = optim.Adam(model.parameters(),lr =lr)"
   ]
  },
  {
   "cell_type": "code",
   "execution_count": null,
   "metadata": {},
   "outputs": [
    {
     "name": "stdout",
     "output_type": "stream",
     "text": [
      "0 loss = 11.116672403983289 and validation loss = 12.485656592310692\n"
     ]
    }
   ],
   "source": [
    "epoch = 30\n",
    "# if torch.cuda.is_available():\n",
    "#     model.cuda()\n",
    "for e in range(epoch):\n",
    "    run_loss =0\n",
    "    count = 0\n",
    "    model.train()\n",
    "    for x,y in train_loader:\n",
    "        optimizer.zero_grad()\n",
    "#         torch.cuda.empty_cache()\n",
    "#       moving to cuda\n",
    "#         if torch.cuda.is_available():\n",
    "#             y = y.cuda()\n",
    "#         y = y.reshape(y.shape[0],-1)\n",
    "        out = model(x)\n",
    "        loss = criterian(out,y)\n",
    "        run_loss += loss.item()\n",
    "        loss.backward()\n",
    "        optimizer.step()\n",
    "        count +=1\n",
    "        torch.cuda.empty_cache()\n",
    "        del x\n",
    "        del y\n",
    "    else:\n",
    "        run_loss = run_loss/count\n",
    "        model.eval()\n",
    "        val_loss =0 \n",
    "        loss = 0\n",
    "        c =0 \n",
    "        for x,y in validatation_loader:\n",
    "#             if torch.cuda.is_available():\n",
    "#                 y = y.cuda()\n",
    "#             y = y.reshape(y.shape[0],-1)\n",
    "            out = model(x)\n",
    "            loss = criterian(out,y)\n",
    "            val_loss += loss.item()\n",
    "            c +=1\n",
    "        val_loss = val_loss/c\n",
    "        print('{} loss = {} and validation loss = {}'.format(e,run_loss,val_loss))"
   ]
  },
  {
   "cell_type": "code",
   "execution_count": null,
   "metadata": {},
   "outputs": [],
   "source": [
    "torch.cuda.is_available()"
   ]
  },
  {
   "cell_type": "code",
   "execution_count": null,
   "metadata": {},
   "outputs": [],
   "source": [
    "len(flights)"
   ]
  },
  {
   "cell_type": "code",
   "execution_count": null,
   "metadata": {},
   "outputs": [],
   "source": [
    "len(flights)/1024"
   ]
  },
  {
   "cell_type": "code",
   "execution_count": null,
   "metadata": {},
   "outputs": [],
   "source": [
    "test_gen = Generator(test_indexes)\n",
    "test_loader = data.DataLoader(test_gen,**params)"
   ]
  },
  {
   "cell_type": "code",
   "execution_count": null,
   "metadata": {},
   "outputs": [],
   "source": [
    "x,y = next(iter(test_loader))\n",
    "model.eval()\n",
    "# if torch.cuda.is_available():\n",
    "#             y = y.cuda()\n",
    "out = model(x)\n",
    "print('{} is out and actual {}'.format(out,y))"
   ]
  },
  {
   "cell_type": "code",
   "execution_count": null,
   "metadata": {},
   "outputs": [],
   "source": [
    "out.shape"
   ]
  },
  {
   "cell_type": "code",
   "execution_count": null,
   "metadata": {},
   "outputs": [],
   "source": [
    "out = out.flatten()\n",
    "out.shape"
   ]
  },
  {
   "cell_type": "code",
   "execution_count": null,
   "metadata": {},
   "outputs": [],
   "source": [
    "for i in range(len(y)):\n",
    "    print('{} is out and actual {}'.format(out[i],y[i]))"
   ]
  },
  {
   "cell_type": "code",
   "execution_count": null,
   "metadata": {},
   "outputs": [],
   "source": [
    "torch.cuda.empty_cache()"
   ]
  },
  {
   "cell_type": "code",
   "execution_count": null,
   "metadata": {},
   "outputs": [],
   "source": []
  }
 ],
 "metadata": {
  "kernelspec": {
   "display_name": "Python 3",
   "language": "python",
   "name": "python3"
  },
  "language_info": {
   "codemirror_mode": {
    "name": "ipython",
    "version": 3
   },
   "file_extension": ".py",
   "mimetype": "text/x-python",
   "name": "python",
   "nbconvert_exporter": "python",
   "pygments_lexer": "ipython3",
   "version": "3.6.10"
  }
 },
 "nbformat": 4,
 "nbformat_minor": 2
}
